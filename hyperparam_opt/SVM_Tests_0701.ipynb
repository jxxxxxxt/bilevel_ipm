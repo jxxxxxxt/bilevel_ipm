{
 "cells": [
  {
   "cell_type": "code",
   "execution_count": 1,
   "metadata": {},
   "outputs": [],
   "source": [
    "import numpy as np\n",
    "import matplotlib.pyplot as plt\n",
    "\n",
    "from algorithms.gam import gam\n",
    "from algorithms.lv_hba import lv_hba\n",
    "from algorithms.blocc import blocc\n",
    "from algorithms import barrier_blo\n",
    "\n",
    "from utils import *"
   ]
  },
  {
   "cell_type": "code",
   "execution_count": 2,
   "metadata": {
    "colab": {
     "base_uri": "https://localhost:8080/"
    },
    "id": "Zxss_QAsir5b",
    "outputId": "fbf541c5-4295-491e-cb37-e5fc0652b214"
   },
   "outputs": [],
   "source": [
    "# from google.colab import drive\n",
    "# drive.mount('/content/drive')"
   ]
  },
  {
   "cell_type": "code",
   "execution_count": 3,
   "metadata": {
    "id": "r3iQ96Rzijm2"
   },
   "outputs": [],
   "source": [
    "plt.rcParams.update({'font.size': 32})\n",
    "plt.rcParams['font.sans-serif']=['Times New Roman']\n",
    "plt.rcParams['axes.unicode_minus']=False\n",
    "cmap = plt.get_cmap(\"tab10\")"
   ]
  },
  {
   "cell_type": "code",
   "execution_count": 22,
   "metadata": {
    "id": "i4KUBQ1oijm3"
   },
   "outputs": [],
   "source": [
    "epochs = 80\n",
    "seeds = 10"
   ]
  },
  {
   "cell_type": "code",
   "execution_count": 23,
   "metadata": {
    "id": "m5b5XMjiijm3"
   },
   "outputs": [],
   "source": [
    "hparams = {\n",
    "    'lv_hba': {\n",
    "        'alpha': 0.01,\n",
    "        'gama1': 0.1,\n",
    "        'gama2': 0.1,\n",
    "        'yita': 0.001\n",
    "    },\n",
    "    'gam': {\n",
    "        'alpha': 0.05,\n",
    "        'epsilon': 0.005\n",
    "    },\n",
    "    'blocc': {\n",
    "        'gam': 10,\n",
    "        'eta': 0.01\n",
    "    },\n",
    "    'barrier_blo': {\n",
    "        'alpha': 2,\n",
    "        'beta': 0.01,\n",
    "        'epsilon': 3,\n",
    "        'max_iters_outer': 5,\n",
    "        'max_iters_inner': 5,\n",
    "        'M': 0.5,\n",
    "        't': 1e-3\n",
    "    }\n",
    "}"
   ]
  },
  {
   "cell_type": "markdown",
   "metadata": {
    "id": "8Gf6jFJ3ijm2"
   },
   "source": [
    "# Dataset Diabetes"
   ]
  },
  {
   "cell_type": "code",
   "execution_count": 24,
   "metadata": {
    "id": "Oox_S_0Kijm3"
   },
   "outputs": [],
   "source": [
    "dataset_name = \"diabetes\"\n",
    "data = load_diabetes()\n",
    "\n",
    "n_train = 500\n",
    "n_val = 150"
   ]
  },
  {
   "cell_type": "code",
   "execution_count": 25,
   "metadata": {},
   "outputs": [
    {
     "data": {
      "text/plain": [
       "((500, 45), (150, 45), (118, 45))"
      ]
     },
     "execution_count": 25,
     "metadata": {},
     "output_type": "execute_result"
    }
   ],
   "source": [
    "x_train, y_train, x_val, y_val, x_test, y_test = train_val_test_split(data, 10, n_train, n_val)\n",
    "x_train.shape, x_val.shape, x_test.shape"
   ]
  },
  {
   "cell_type": "code",
   "execution_count": 26,
   "metadata": {
    "colab": {
     "base_uri": "https://localhost:8080/"
    },
    "id": "eCdsxdeKijm3",
    "outputId": "f3b6ca8c-5b29-4ae1-fca3-f023c7b47573"
   },
   "outputs": [
    {
     "name": "stdout",
     "output_type": "stream",
     "text": [
      "Starting seed 1/10: blocc "
     ]
    },
    {
     "name": "stderr",
     "output_type": "stream",
     "text": [
      "e:\\software\\Anaconda\\envs\\BLO\\lib\\site-packages\\cvxpy\\reductions\\solvers\\solving_chain.py:356: FutureWarning: \n",
      "    You specified your problem should be solved by ECOS. Starting in\n",
      "    CXVPY 1.6.0, ECOS will no longer be installed by default with CVXPY.\n",
      "    Please either add ECOS as an explicit install dependency to your project\n",
      "    or switch to our new default solver, Clarabel, by either not specifying a\n",
      "    solver argument or specifying ``solver=cp.CLARABEL``. To suppress this\n",
      "    warning while continuing to use ECOS, you can filter this warning using\n",
      "    Python's ``warnings`` module until you are using 1.6.0.\n",
      "    \n",
      "  warnings.warn(ECOS_DEP_DEPRECATION_MSG, FutureWarning)\n"
     ]
    },
    {
     "name": "stdout",
     "output_type": "stream",
     "text": [
      "barrier_blo     Inner loop PGD total iter: 3, grad norm: 2.081540158176992, M: 0.5\n",
      "hessian_y shape: (546, 546), jacobian shape: (500, 546), np.block([grad_w, grad_b, grad_xi]) shape: (546,)\n",
      "Upper iter: 0, grad norm of hyperfunction: 221.59389863345507\n",
      "Epoch [0/5]: val acc: 0.83 val loss: 1.77 test acc: 0.79 test loss: 2.00\n",
      "    Inner loop PGD total iter: 1, grad norm: 1.868561217840898, M: 0.5\n",
      "hessian_y shape: (546, 546), jacobian shape: (500, 546), np.block([grad_w, grad_b, grad_xi]) shape: (546,)\n",
      "Upper iter: 1, grad norm of hyperfunction: 219.44856865233243\n",
      "    Inner loop PGD total iter: 1, grad norm: 1.7276546649018236, M: 0.5\n",
      "hessian_y shape: (546, 546), jacobian shape: (500, 546), np.block([grad_w, grad_b, grad_xi]) shape: (546,)\n",
      "Upper iter: 2, grad norm of hyperfunction: 217.3117770442713\n",
      "    Inner loop PGD total iter: 1, grad norm: 1.6239624287963603, M: 0.5\n",
      "hessian_y shape: (546, 546), jacobian shape: (500, 546), np.block([grad_w, grad_b, grad_xi]) shape: (546,)\n",
      "Upper iter: 3, grad norm of hyperfunction: 215.19070392820194\n",
      "    Inner loop PGD total iter: 1, grad norm: 1.545806639736367, M: 0.5\n",
      "hessian_y shape: (546, 546), jacobian shape: (500, 546), np.block([grad_w, grad_b, grad_xi]) shape: (546,)\n",
      "Upper iter: 4, grad norm of hyperfunction: 213.0843592523924\n",
      "Outer loop total iter: 5, final grad norm: 213.0843592523924\n",
      "lv_hba DONE\n",
      "Starting seed 2/10: blocc barrier_blo     Inner loop PGD total iter: 3, grad norm: 2.303695878831921, M: 0.5\n",
      "hessian_y shape: (546, 546), jacobian shape: (500, 546), np.block([grad_w, grad_b, grad_xi]) shape: (546,)\n",
      "Upper iter: 0, grad norm of hyperfunction: 221.0848853654265\n",
      "Epoch [0/5]: val acc: 0.81 val loss: 1.86 test acc: 0.74 test loss: 2.24\n",
      "    Inner loop PGD total iter: 1, grad norm: 2.0754296458569392, M: 0.5\n",
      "hessian_y shape: (546, 546), jacobian shape: (500, 546), np.block([grad_w, grad_b, grad_xi]) shape: (546,)\n",
      "Upper iter: 1, grad norm of hyperfunction: 218.96628585409968\n",
      "    Inner loop PGD total iter: 1, grad norm: 1.9174841672165437, M: 0.5\n",
      "hessian_y shape: (546, 546), jacobian shape: (500, 546), np.block([grad_w, grad_b, grad_xi]) shape: (546,)\n",
      "Upper iter: 2, grad norm of hyperfunction: 216.84876997273176\n",
      "    Inner loop PGD total iter: 1, grad norm: 1.8007199687054571, M: 0.5\n",
      "hessian_y shape: (546, 546), jacobian shape: (500, 546), np.block([grad_w, grad_b, grad_xi]) shape: (546,)\n",
      "Upper iter: 3, grad norm of hyperfunction: 214.7505599680418\n",
      "    Inner loop PGD total iter: 1, grad norm: 1.7098234966797596, M: 0.5\n",
      "hessian_y shape: (546, 546), jacobian shape: (500, 546), np.block([grad_w, grad_b, grad_xi]) shape: (546,)\n",
      "Upper iter: 4, grad norm of hyperfunction: 212.66283303735503\n",
      "Outer loop total iter: 5, final grad norm: 212.66283303735503\n",
      "lv_hba DONE\n",
      "Starting seed 3/10: blocc barrier_blo     Inner loop PGD total iter: 3, grad norm: 2.277415006267828, M: 0.5\n",
      "hessian_y shape: (546, 546), jacobian shape: (500, 546), np.block([grad_w, grad_b, grad_xi]) shape: (546,)\n",
      "Upper iter: 0, grad norm of hyperfunction: 222.11505616749065\n",
      "Epoch [0/5]: val acc: 0.77 val loss: 2.01 test acc: 0.83 test loss: 1.74\n",
      "    Inner loop PGD total iter: 1, grad norm: 2.002464634137638, M: 0.5\n",
      "hessian_y shape: (546, 546), jacobian shape: (500, 546), np.block([grad_w, grad_b, grad_xi]) shape: (546,)\n",
      "Upper iter: 1, grad norm of hyperfunction: 219.95670706064314\n",
      "    Inner loop PGD total iter: 1, grad norm: 1.815654609611921, M: 0.5\n",
      "hessian_y shape: (546, 546), jacobian shape: (500, 546), np.block([grad_w, grad_b, grad_xi]) shape: (546,)\n",
      "Upper iter: 2, grad norm of hyperfunction: 217.79671150484805\n",
      "    Inner loop PGD total iter: 1, grad norm: 1.6841923112628088, M: 0.5\n",
      "hessian_y shape: (546, 546), jacobian shape: (500, 546), np.block([grad_w, grad_b, grad_xi]) shape: (546,)\n",
      "Upper iter: 3, grad norm of hyperfunction: 215.65119365133543\n",
      "    Inner loop PGD total iter: 1, grad norm: 1.590867433462201, M: 0.5\n",
      "hessian_y shape: (546, 546), jacobian shape: (500, 546), np.block([grad_w, grad_b, grad_xi]) shape: (546,)\n",
      "Upper iter: 4, grad norm of hyperfunction: 213.5262132763752\n",
      "Outer loop total iter: 5, final grad norm: 213.5262132763752\n",
      "lv_hba DONE\n",
      "Starting seed 4/10: blocc barrier_blo     Inner loop PGD total iter: 3, grad norm: 2.322479809419333, M: 0.5\n",
      "hessian_y shape: (546, 546), jacobian shape: (500, 546), np.block([grad_w, grad_b, grad_xi]) shape: (546,)\n",
      "Upper iter: 0, grad norm of hyperfunction: 223.50603537012375\n",
      "Epoch [0/5]: val acc: 0.78 val loss: 2.02 test acc: 0.76 test loss: 2.03\n",
      "    Inner loop PGD total iter: 1, grad norm: 2.0574499694805346, M: 0.5\n",
      "hessian_y shape: (546, 546), jacobian shape: (500, 546), np.block([grad_w, grad_b, grad_xi]) shape: (546,)\n",
      "Upper iter: 1, grad norm of hyperfunction: 221.30087468774764\n",
      "    Inner loop PGD total iter: 1, grad norm: 1.86930882775994, M: 0.5\n",
      "hessian_y shape: (546, 546), jacobian shape: (500, 546), np.block([grad_w, grad_b, grad_xi]) shape: (546,)\n",
      "Upper iter: 2, grad norm of hyperfunction: 219.09917982873367\n",
      "    Inner loop PGD total iter: 1, grad norm: 1.7332711365176205, M: 0.5\n",
      "hessian_y shape: (546, 546), jacobian shape: (500, 546), np.block([grad_w, grad_b, grad_xi]) shape: (546,)\n",
      "Upper iter: 3, grad norm of hyperfunction: 216.91446806605313\n",
      "    Inner loop PGD total iter: 1, grad norm: 1.6327772392504547, M: 0.5\n",
      "hessian_y shape: (546, 546), jacobian shape: (500, 546), np.block([grad_w, grad_b, grad_xi]) shape: (546,)\n",
      "Upper iter: 4, grad norm of hyperfunction: 214.7539385028137\n",
      "Outer loop total iter: 5, final grad norm: 214.7539385028137\n",
      "lv_hba DONE\n",
      "Starting seed 5/10: blocc barrier_blo     Inner loop PGD total iter: 3, grad norm: 2.2766764131851995, M: 0.5\n",
      "hessian_y shape: (546, 546), jacobian shape: (500, 546), np.block([grad_w, grad_b, grad_xi]) shape: (546,)\n",
      "Upper iter: 0, grad norm of hyperfunction: 219.24060010088812\n",
      "Epoch [0/5]: val acc: 0.76 val loss: 2.02 test acc: 0.69 test loss: 2.62\n",
      "    Inner loop PGD total iter: 1, grad norm: 2.1113446181157127, M: 0.5\n",
      "hessian_y shape: (546, 546), jacobian shape: (500, 546), np.block([grad_w, grad_b, grad_xi]) shape: (546,)\n",
      "Upper iter: 1, grad norm of hyperfunction: 217.29325515070698\n",
      "    Inner loop PGD total iter: 1, grad norm: 1.9873143606125192, M: 0.5\n",
      "hessian_y shape: (546, 546), jacobian shape: (500, 546), np.block([grad_w, grad_b, grad_xi]) shape: (546,)\n",
      "Upper iter: 2, grad norm of hyperfunction: 215.32759316898586\n",
      "    Inner loop PGD total iter: 1, grad norm: 1.8846328004996034, M: 0.5\n",
      "hessian_y shape: (546, 546), jacobian shape: (500, 546), np.block([grad_w, grad_b, grad_xi]) shape: (546,)\n",
      "Upper iter: 3, grad norm of hyperfunction: 213.36688399924086\n",
      "    Inner loop PGD total iter: 1, grad norm: 1.7957290643602364, M: 0.5\n",
      "hessian_y shape: (546, 546), jacobian shape: (500, 546), np.block([grad_w, grad_b, grad_xi]) shape: (546,)\n",
      "Upper iter: 4, grad norm of hyperfunction: 211.40830932436324\n",
      "Outer loop total iter: 5, final grad norm: 211.40830932436324\n",
      "lv_hba DONE\n",
      "Starting seed 6/10: blocc barrier_blo     Inner loop PGD total iter: 3, grad norm: 2.262840264659421, M: 0.5\n",
      "hessian_y shape: (546, 546), jacobian shape: (500, 546), np.block([grad_w, grad_b, grad_xi]) shape: (546,)\n",
      "Upper iter: 0, grad norm of hyperfunction: 221.56229735771802\n",
      "Epoch [0/5]: val acc: 0.76 val loss: 2.39 test acc: 0.77 test loss: 2.02\n",
      "    Inner loop PGD total iter: 1, grad norm: 2.054216938176264, M: 0.5\n",
      "hessian_y shape: (546, 546), jacobian shape: (500, 546), np.block([grad_w, grad_b, grad_xi]) shape: (546,)\n",
      "Upper iter: 1, grad norm of hyperfunction: 219.35721667757386\n",
      "    Inner loop PGD total iter: 1, grad norm: 1.9218104901026825, M: 0.5\n",
      "hessian_y shape: (546, 546), jacobian shape: (500, 546), np.block([grad_w, grad_b, grad_xi]) shape: (546,)\n",
      "Upper iter: 2, grad norm of hyperfunction: 217.19080714243034\n",
      "    Inner loop PGD total iter: 1, grad norm: 1.8239967219274946, M: 0.5\n",
      "hessian_y shape: (546, 546), jacobian shape: (500, 546), np.block([grad_w, grad_b, grad_xi]) shape: (546,)\n",
      "Upper iter: 3, grad norm of hyperfunction: 215.06634062087792\n",
      "    Inner loop PGD total iter: 1, grad norm: 1.7466282323531248, M: 0.5\n",
      "hessian_y shape: (546, 546), jacobian shape: (500, 546), np.block([grad_w, grad_b, grad_xi]) shape: (546,)\n",
      "Upper iter: 4, grad norm of hyperfunction: 212.9761780518821\n",
      "Outer loop total iter: 5, final grad norm: 212.9761780518821\n",
      "lv_hba DONE\n",
      "Starting seed 7/10: blocc barrier_blo     Inner loop PGD total iter: 2, grad norm: 2.1961588902342974, M: 0.5\n",
      "hessian_y shape: (546, 546), jacobian shape: (500, 546), np.block([grad_w, grad_b, grad_xi]) shape: (546,)\n",
      "Upper iter: 0, grad norm of hyperfunction: 220.06981895051027\n",
      "Epoch [0/5]: val acc: 0.77 val loss: 2.05 test acc: 0.76 test loss: 2.36\n",
      "    Inner loop PGD total iter: 1, grad norm: 1.9045197171912753, M: 0.5\n",
      "hessian_y shape: (546, 546), jacobian shape: (500, 546), np.block([grad_w, grad_b, grad_xi]) shape: (546,)\n",
      "Upper iter: 1, grad norm of hyperfunction: 218.0530387507111\n",
      "    Inner loop PGD total iter: 1, grad norm: 1.7432214273148068, M: 0.5\n",
      "hessian_y shape: (546, 546), jacobian shape: (500, 546), np.block([grad_w, grad_b, grad_xi]) shape: (546,)\n",
      "Upper iter: 2, grad norm of hyperfunction: 216.00827046044694\n",
      "    Inner loop PGD total iter: 1, grad norm: 1.6429351420123295, M: 0.5\n",
      "hessian_y shape: (546, 546), jacobian shape: (500, 546), np.block([grad_w, grad_b, grad_xi]) shape: (546,)\n",
      "Upper iter: 3, grad norm of hyperfunction: 213.95897885710608\n",
      "    Inner loop PGD total iter: 1, grad norm: 1.5682398502189194, M: 0.5\n",
      "hessian_y shape: (546, 546), jacobian shape: (500, 546), np.block([grad_w, grad_b, grad_xi]) shape: (546,)\n",
      "Upper iter: 4, grad norm of hyperfunction: 211.91358102142854\n",
      "Outer loop total iter: 5, final grad norm: 211.91358102142854\n",
      "lv_hba DONE\n",
      "Starting seed 8/10: blocc barrier_blo     Inner loop PGD total iter: 3, grad norm: 2.2201273426340022, M: 0.5\n",
      "hessian_y shape: (546, 546), jacobian shape: (500, 546), np.block([grad_w, grad_b, grad_xi]) shape: (546,)\n",
      "Upper iter: 0, grad norm of hyperfunction: 220.2986278197889\n",
      "Epoch [0/5]: val acc: 0.75 val loss: 2.19 test acc: 0.78 test loss: 1.96\n",
      "    Inner loop PGD total iter: 1, grad norm: 2.068107906333453, M: 0.5\n",
      "hessian_y shape: (546, 546), jacobian shape: (500, 546), np.block([grad_w, grad_b, grad_xi]) shape: (546,)\n",
      "Upper iter: 1, grad norm of hyperfunction: 218.41078458360673\n",
      "    Inner loop PGD total iter: 1, grad norm: 1.9593666096751987, M: 0.5\n",
      "hessian_y shape: (546, 546), jacobian shape: (500, 546), np.block([grad_w, grad_b, grad_xi]) shape: (546,)\n",
      "Upper iter: 2, grad norm of hyperfunction: 216.45961084390032\n",
      "    Inner loop PGD total iter: 1, grad norm: 1.8766820531641957, M: 0.5\n",
      "hessian_y shape: (546, 546), jacobian shape: (500, 546), np.block([grad_w, grad_b, grad_xi]) shape: (546,)\n",
      "Upper iter: 3, grad norm of hyperfunction: 214.47351555544392\n",
      "    Inner loop PGD total iter: 1, grad norm: 1.809056864148011, M: 0.5\n",
      "hessian_y shape: (546, 546), jacobian shape: (500, 546), np.block([grad_w, grad_b, grad_xi]) shape: (546,)\n",
      "Upper iter: 4, grad norm of hyperfunction: 212.4721558308597\n",
      "Outer loop total iter: 5, final grad norm: 212.4721558308597\n",
      "lv_hba DONE\n",
      "Starting seed 9/10: blocc barrier_blo     Inner loop PGD total iter: 3, grad norm: 2.233950574808145, M: 0.5\n",
      "hessian_y shape: (546, 546), jacobian shape: (500, 546), np.block([grad_w, grad_b, grad_xi]) shape: (546,)\n",
      "Upper iter: 0, grad norm of hyperfunction: 221.36522306059732\n",
      "Epoch [0/5]: val acc: 0.81 val loss: 2.04 test acc: 0.78 test loss: 2.29\n",
      "    Inner loop PGD total iter: 1, grad norm: 2.0622767466148586, M: 0.5\n",
      "hessian_y shape: (546, 546), jacobian shape: (500, 546), np.block([grad_w, grad_b, grad_xi]) shape: (546,)\n",
      "Upper iter: 1, grad norm of hyperfunction: 219.2836869488685\n",
      "    Inner loop PGD total iter: 1, grad norm: 1.9404276277604926, M: 0.5\n",
      "hessian_y shape: (546, 546), jacobian shape: (500, 546), np.block([grad_w, grad_b, grad_xi]) shape: (546,)\n",
      "Upper iter: 2, grad norm of hyperfunction: 217.21364853945255\n",
      "    Inner loop PGD total iter: 1, grad norm: 1.847586379733618, M: 0.5\n",
      "hessian_y shape: (546, 546), jacobian shape: (500, 546), np.block([grad_w, grad_b, grad_xi]) shape: (546,)\n",
      "Upper iter: 3, grad norm of hyperfunction: 215.14688504302083\n",
      "    Inner loop PGD total iter: 1, grad norm: 1.7677282414248183, M: 0.5\n",
      "hessian_y shape: (546, 546), jacobian shape: (500, 546), np.block([grad_w, grad_b, grad_xi]) shape: (546,)\n",
      "Upper iter: 4, grad norm of hyperfunction: 213.08645233447592\n",
      "Outer loop total iter: 5, final grad norm: 213.08645233447592\n",
      "lv_hba DONE\n",
      "Starting seed 10/10: blocc barrier_blo     Inner loop PGD total iter: 3, grad norm: 2.2866522453026756, M: 0.5\n",
      "hessian_y shape: (546, 546), jacobian shape: (500, 546), np.block([grad_w, grad_b, grad_xi]) shape: (546,)\n",
      "Upper iter: 0, grad norm of hyperfunction: 222.22718761006604\n",
      "Epoch [0/5]: val acc: 0.77 val loss: 2.14 test acc: 0.68 test loss: 2.48\n",
      "    Inner loop PGD total iter: 1, grad norm: 2.0915265879039664, M: 0.5\n",
      "hessian_y shape: (546, 546), jacobian shape: (500, 546), np.block([grad_w, grad_b, grad_xi]) shape: (546,)\n",
      "Upper iter: 1, grad norm of hyperfunction: 220.08687626270122\n",
      "    Inner loop PGD total iter: 1, grad norm: 1.9595582456839788, M: 0.5\n",
      "hessian_y shape: (546, 546), jacobian shape: (500, 546), np.block([grad_w, grad_b, grad_xi]) shape: (546,)\n",
      "Upper iter: 2, grad norm of hyperfunction: 217.96052007765593\n",
      "    Inner loop PGD total iter: 1, grad norm: 1.8600851233904858, M: 0.5\n",
      "hessian_y shape: (546, 546), jacobian shape: (500, 546), np.block([grad_w, grad_b, grad_xi]) shape: (546,)\n",
      "Upper iter: 3, grad norm of hyperfunction: 215.83704383351431\n",
      "    Inner loop PGD total iter: 1, grad norm: 1.783284538524861, M: 0.5\n",
      "hessian_y shape: (546, 546), jacobian shape: (500, 546), np.block([grad_w, grad_b, grad_xi]) shape: (546,)\n",
      "Upper iter: 4, grad norm of hyperfunction: 213.72622214557413\n",
      "Outer loop total iter: 5, final grad norm: 213.72622214557413\n",
      "lv_hba DONE\n"
     ]
    }
   ],
   "source": [
    "metrics_diabetes = {}\n",
    "variables_diabetes = {}\n",
    "\n",
    "algs = ['blocc', 'barrier_blo', 'lv_hba']\n",
    "\n",
    "for a in algs:\n",
    "    metrics_diabetes[a] = []\n",
    "    variables_diabetes[a] = []\n",
    "\n",
    "for seed in range(seeds):\n",
    "\n",
    "    print(f\"Starting seed {seed+1}/{seeds}: \", end=\"\")\n",
    "\n",
    "    x_train, y_train, x_val, y_val, x_test, y_test = train_val_test_split(data, seed, n_train, n_val)\n",
    "\n",
    "    for alg in algs:\n",
    "        print(f\"{alg}\", end=\" \")\n",
    "        if alg == 'barrier_blo':\n",
    "            c0, w0, b0, xi0 = 3 * np.ones(n_train), np.ones(45), np.zeros(), np.ones(n_train)\n",
    "            datasets = {\n",
    "                'x_train': x_train, 'y_train': y_train, 'x_val': x_val, \n",
    "                'y_val': y_val, 'x_test': x_test, 'y_test': y_test\n",
    "            }\n",
    "    \n",
    "            problem = barrier_blo.SVM_Problem(datasets)\n",
    "            algo = barrier_blo.Barrier_BLO(problem, hparams['barrier_blo'])\n",
    "            metrics_seed, c, w, b, xi, grad_norm = algo.upper_loop(c0, w0, b0, xi0, hparams['barrier_blo'])\n",
    "            metrics_diabetes[alg].append(metrics_seed)\n",
    "            variables_diabetes[alg].append([c, w, b, xi])\n",
    "        else:\n",
    "            metrics_seed, variables_seed = eval(alg)(x_train, y_train, x_val, y_val, x_test, y_test, hparams[alg], epochs, verbose=False)\n",
    "            metrics_diabetes[alg].append(metrics_seed)\n",
    "            variables_diabetes[alg].append(variables_seed)\n",
    "    print(\"DONE\")"
   ]
  },
  {
   "cell_type": "markdown",
   "metadata": {
    "id": "DlIkNu2Sijm4"
   },
   "source": [
    "## Evaluation"
   ]
  },
  {
   "cell_type": "code",
   "execution_count": 55,
   "metadata": {},
   "outputs": [],
   "source": [
    "results_path = 'Plots_diabetes/'# f'../results/hyperparam_opt/{dataset_name}/'"
   ]
  },
  {
   "cell_type": "code",
   "execution_count": 56,
   "metadata": {},
   "outputs": [],
   "source": [
    "axis_barrier_blo = []\n",
    "for metrics in metrics_barrier_blo:\n",
    "    temp = []\n",
    "    for metric in metrics:\n",
    "        if 'time_computation' in metric:\n",
    "            temp.append(metric['time_computation'])\n",
    "        else:\n",
    "            print(\"Missing 'time_computation' in\", metric)\n",
    "            temp.append(np.nan)  # 或者使用一个默认值，例如 np.nan\n",
    "    axis_barrier_blo.append(temp)\n",
    "axis_barrier_blo = np.array(axis_barrier_blo)\n",
    "\n"
   ]
  },
  {
   "cell_type": "code",
   "execution_count": 57,
   "metadata": {
    "id": "g3N_Q1Jeijm4"
   },
   "outputs": [],
   "source": [
    "metrics_lvhba = metrics_diabetes['lv_hba']\n",
    "# metrics_gam = metrics_diabetes['gam']\n",
    "metrics_blocc = metrics_diabetes['blocc']\n",
    "metrics_barrier_blo = metrics_diabetes['barrier_blo']\n",
    "\n",
    "axis_lvhba_all = np.array([[x['time_computation'] for x in metrics] for metrics in metrics_lvhba])\n",
    "# axis_gam_all = np.array([[x['time_computation'] for x in metrics] for metrics in metrics_gam])\n",
    "axis_blocc_all = np.array([[x['time_computation'] for x in metrics] for metrics in metrics_blocc])\n",
    "axis_barrier_blo = np.array([[x['time_computation'] for x in metrics] for metrics in metrics_barrier_blo])\n",
    "\n",
    "\n",
    "\n",
    "axis_lvhba = axis_lvhba_all.mean(0)\n",
    "# axis_gam = axis_gam_all.mean(0)\n",
    "axis_blocc = axis_blocc_all.mean(0)\n",
    "axis_barrier_blo = axis_barrier_blo.mean(0)\n",
    "\n",
    "axis_iter = np.arange(epochs)"
   ]
  },
  {
   "cell_type": "code",
   "execution_count": 58,
   "metadata": {
    "id": "ZzUwVpimijm5"
   },
   "outputs": [],
   "source": [
    "train_acc_lvhba = np.array([[x['train_acc'] for x in metric] for metric in metrics_lvhba])\n",
    "# train_acc_ga = np.array([[x['train_acc'] for x in metric] for metric in metrics_gam])\n",
    "train_acc_blocc = np.array([[x['train_acc_F'] for x in metric] for metric in metrics_blocc])\n",
    "train_barrier_blo = np.array([[x['train_acc'] for x in metric] for metric in metrics_barrier_blo])\n",
    "\n",
    "val_acc_lvhba = np.array([[x['val_acc'] for x in metric] for metric in metrics_lvhba])\n",
    "# val_acc_ga = np.array([[x['val_acc'] for x in metric] for metric in metrics_gam])\n",
    "val_acc_blocc = np.array([[x['val_acc_F'] for x in metric] for metric in metrics_blocc])\n",
    "val_acc_barrier_blo = np.array([[x['val_acc'] for x in metric] for metric in metrics_barrier_blo])\n",
    "\n",
    "test_acc_lvhba = np.array([[x['test_acc'] for x in metric] for metric in metrics_lvhba])\n",
    "# test_acc_ga = np.array([[x['test_acc'] for x in metric] for metric in metrics_gam])\n",
    "test_acc_blocc = np.array([[x['test_acc_F'] for x in metric] for metric in metrics_blocc])\n",
    "test_acc_barrier_blo = np.array([[x['test_acc'] for x in metric] for metric in metrics_barrier_blo])"
   ]
  },
  {
   "cell_type": "code",
   "execution_count": 59,
   "metadata": {
    "id": "B9_4cxbyijm5"
   },
   "outputs": [],
   "source": [
    "val_loss_lvhba = np.array([[x['val_loss'] for x in metric] for metric in metrics_lvhba])[:,0:]\n",
    "# val_loss_ga = np.array([[x['val_loss'] for x in metric] for metric in metrics_gam])[:,0:]\n",
    "val_loss_blocc = np.array([[x['val_loss_F'] for x in metric] for metric in metrics_blocc])[:,0:]\n",
    "val_loss_barrier_blo = np.array([[x['val_loss'] for x in metric] for metric in metrics_barrier_blo])[:,0:]\n",
    "\n",
    "\n",
    "test_loss_lvhba = np.array([[x['test_loss'] for x in metric] for metric in metrics_lvhba])[:,0:]\n",
    "# test_loss_ga = np.array([[x['test_loss'] for x in metric] for metric in metrics_gam])[:,0:]\n",
    "test_loss_blocc = np.array([[x['test_loss_F'] for x in metric] for metric in metrics_blocc])[:,0:]\n",
    "test_loss_barrier_blo = np.array([[x['test_loss'] for x in metric] for metric in metrics_barrier_blo])[:,0:]\n",
    "\n",
    "lower_loss_lvhba = np.array([[x['loss_lower'] for x in metric] for metric in metrics_lvhba])[:,1:]\n",
    "# lower_loss_ga = np.array([[x['loss_lower'] for x in metric] for metric in metrics_gam])[:,1:]\n",
    "lower_loss_blocc = np.array([[x['loss_lower'] for x in metric] for metric in metrics_blocc])[:,1:]\n",
    "# lower_loss_barrier_blo = np.array([[x['loss_lower'] for x in metric] for metric in metrics_barrier_blo])[:,1:]\n",
    "\n",
    "# constraint_violation_lvhba = np.array([[x['constraint_violation'] for x in metric] for metric in metrics_lvhba])[:,1:]\n",
    "# constraint_violation_blocc = np.array([[x['constraint_violation'] for x in metric] for metric in metrics_blocc])[:,1:]"
   ]
  },
  {
   "cell_type": "markdown",
   "metadata": {},
   "source": [
    "### Measuring Convergence Time\n",
    "When `(UpperLoss_{t+1}-UpperLoss_t)^2` is smaller than `eps = 1e-5`. We say convergence happen."
   ]
  },
  {
   "cell_type": "code",
   "execution_count": 60,
   "metadata": {},
   "outputs": [
    {
     "name": "stdout",
     "output_type": "stream",
     "text": [
      "-------------- Accuracy -------------\n",
      "blocc: 0.750 (0.032)\n",
      "lvhba: 0.755 (0.042)\n",
      "barrier_blo: 0.753 (0.037)\n"
     ]
    }
   ],
   "source": [
    "print(\"-------------- Accuracy -------------\")\n",
    "print('blocc: {:0.3f} ({:0.3f})'.format(test_acc_blocc[:,-1].mean(),test_acc_blocc[:,-1].std()))\n",
    "print('lvhba: {:0.3f} ({:0.3f})'.format(test_acc_lvhba[:,-1].mean(),test_acc_lvhba[:,-1].std()))\n",
    "# print('gam: {:0.3f} ({:0.3f})'.format(test_acc_ga[:,-1].mean(),test_acc_ga[:,-1].std()))\n",
    "print('barrier_blo: {:0.3f} ({:0.3f})'.format(test_acc_barrier_blo[:,-1].mean(),test_acc_barrier_blo[:,-1].std()))"
   ]
  },
  {
   "cell_type": "code",
   "execution_count": 61,
   "metadata": {},
   "outputs": [
    {
     "ename": "IndexError",
     "evalue": "too many indices for array: array is 1-dimensional, but 2 were indexed",
     "output_type": "error",
     "traceback": [
      "\u001b[1;31m---------------------------------------------------------------------------\u001b[0m",
      "\u001b[1;31mIndexError\u001b[0m                                Traceback (most recent call last)",
      "Cell \u001b[1;32mIn[61], line 27\u001b[0m\n\u001b[0;32m     25\u001b[0m     time_lvhba\u001b[38;5;241m.\u001b[39mappend(axis_lvhba_all[i,converged_id_lvhba[i]\u001b[38;5;241m+\u001b[39m\u001b[38;5;241m1\u001b[39m])\n\u001b[0;32m     26\u001b[0m     \u001b[38;5;66;03m# time_ga.append(axis_gam_all[i,converged_id_ga[i]+1])\u001b[39;00m\n\u001b[1;32m---> 27\u001b[0m     time_barrier_blo\u001b[38;5;241m.\u001b[39mappend(\u001b[43maxis_barrier_blo\u001b[49m\u001b[43m[\u001b[49m\u001b[43mi\u001b[49m\u001b[43m,\u001b[49m\u001b[43mconverged_id_barrier_blo\u001b[49m\u001b[43m[\u001b[49m\u001b[43mi\u001b[49m\u001b[43m]\u001b[49m\u001b[38;5;241;43m+\u001b[39;49m\u001b[38;5;241;43m1\u001b[39;49m\u001b[43m]\u001b[49m)\n\u001b[0;32m     28\u001b[0m time_blocc \u001b[38;5;241m=\u001b[39m np\u001b[38;5;241m.\u001b[39marray(time_blocc)\n\u001b[0;32m     29\u001b[0m time_lvhba \u001b[38;5;241m=\u001b[39m np\u001b[38;5;241m.\u001b[39marray(time_lvhba)\n",
      "\u001b[1;31mIndexError\u001b[0m: too many indices for array: array is 1-dimensional, but 2 were indexed"
     ]
    }
   ],
   "source": [
    "eps = 1e-5\n",
    "\n",
    "diff_val_loss_blocc = np.diff(val_loss_blocc,axis=1)**2\n",
    "diff_val_loss_blocc[diff_val_loss_blocc<eps]=0\n",
    "converged_id_blocc = np.argmin(diff_val_loss_blocc,axis = 1)\n",
    "\n",
    "diff_val_loss_lvhba = np.diff(val_loss_lvhba,axis=1)**2\n",
    "diff_val_loss_lvhba[diff_val_loss_lvhba<eps]=0\n",
    "converged_id_lvhba = np.argmin(diff_val_loss_lvhba,axis = 1)\n",
    "\n",
    "# diff_val_loss_ga = np.diff(val_loss_ga,axis=1)**2\n",
    "# diff_val_loss_ga[diff_val_loss_ga<eps]=0\n",
    "# converged_id_ga = np.argmin(diff_val_loss_ga,axis = 1)\n",
    "\n",
    "diff_val_loss_barrier_blo = np.diff(val_loss_barrier_blo,axis=1)**2\n",
    "diff_val_loss_barrier_blo[diff_val_loss_barrier_blo<eps]=0\n",
    "converged_id_barrier_blo = np.argmin(diff_val_loss_barrier_blo,axis = 1)\n",
    "\n",
    "time_blocc = []\n",
    "time_lvhba = []\n",
    "time_ga = []\n",
    "time_barrier_blo=[]\n",
    "for i in range(seeds):\n",
    "    time_blocc.append(axis_blocc_all[i,converged_id_blocc[i]+1])\n",
    "    time_lvhba.append(axis_lvhba_all[i,converged_id_lvhba[i]+1])\n",
    "    # time_ga.append(axis_gam_all[i,converged_id_ga[i]+1])\n",
    "    time_barrier_blo.append(axis_barrier_blo[i,converged_id_barrier_blo[i]+1])\n",
    "time_blocc = np.array(time_blocc)\n",
    "time_lvhba = np.array(time_lvhba)\n",
    "# time_ga = np.array(time_ga)\n",
    "time_barrier_blo = np.array(time_barrier_blo)\n",
    "print(\"-------------- Running Time -------------\")\n",
    "print('blocc: {:0.3f} ({:0.3f})'.format(time_blocc.mean(),time_blocc.std()))\n",
    "print('lvhba: {:0.3f} ({:0.3f})'.format(time_lvhba.mean(),time_lvhba.std()))\n",
    "# print('gam: {:0.3f} ({:0.3f})'.format(time_ga.mean(),time_ga.std()))\n",
    "print('barrier_blo: {:0.3f} ({:0.3f})'.format(time_barrier_blo.mean(),time_barrier_blo.std()))\n"
   ]
  },
  {
   "cell_type": "markdown",
   "metadata": {},
   "source": [
    "### Plots"
   ]
  },
  {
   "cell_type": "code",
   "execution_count": 74,
   "metadata": {
    "colab": {
     "base_uri": "https://localhost:8080/",
     "height": 1000
    },
    "id": "WLpvRc7lijm5",
    "outputId": "c83dfda5-b16e-4937-d32c-f430169c42f7"
   },
   "outputs": [
    {
     "ename": "ValueError",
     "evalue": "where size (1) does not match x size (6)",
     "output_type": "error",
     "traceback": [
      "\u001b[1;31m---------------------------------------------------------------------------\u001b[0m",
      "\u001b[1;31mValueError\u001b[0m                                Traceback (most recent call last)",
      "Cell \u001b[1;32mIn[74], line 13\u001b[0m\n\u001b[0;32m     10\u001b[0m plt\u001b[38;5;241m.\u001b[39mfill_between(axis_blocc,val_acc_blocc\u001b[38;5;241m.\u001b[39mmean(\u001b[38;5;241m0\u001b[39m)\u001b[38;5;241m-\u001b[39mval_acc_blocc\u001b[38;5;241m.\u001b[39mstd(\u001b[38;5;241m0\u001b[39m),val_acc_blocc\u001b[38;5;241m.\u001b[39mmean(\u001b[38;5;241m0\u001b[39m)\u001b[38;5;241m+\u001b[39mval_acc_blocc\u001b[38;5;241m.\u001b[39mstd(\u001b[38;5;241m0\u001b[39m),color\u001b[38;5;241m=\u001b[39m\u001b[38;5;124m'\u001b[39m\u001b[38;5;124mr\u001b[39m\u001b[38;5;124m'\u001b[39m, alpha\u001b[38;5;241m=\u001b[39m\u001b[38;5;241m0.2\u001b[39m)\n\u001b[0;32m     12\u001b[0m plt\u001b[38;5;241m.\u001b[39mplot(axis_barrier_blo,val_acc_barrier_blo\u001b[38;5;241m.\u001b[39mmean(\u001b[38;5;241m0\u001b[39m),\u001b[38;5;124m'\u001b[39m\u001b[38;5;124m-\u001b[39m\u001b[38;5;124m'\u001b[39m,color\u001b[38;5;241m=\u001b[39m\u001b[38;5;124m'\u001b[39m\u001b[38;5;124mg\u001b[39m\u001b[38;5;124m'\u001b[39m, linewidth \u001b[38;5;241m=\u001b[39m \u001b[38;5;241m6\u001b[39m, label\u001b[38;5;241m=\u001b[39m\u001b[38;5;124m\"\u001b[39m\u001b[38;5;124mbarrier_blo\u001b[39m\u001b[38;5;124m\"\u001b[39m)\n\u001b[1;32m---> 13\u001b[0m \u001b[43mplt\u001b[49m\u001b[38;5;241;43m.\u001b[39;49m\u001b[43mfill_between\u001b[49m\u001b[43m(\u001b[49m\u001b[43maxis_barrier_blo\u001b[49m\u001b[43m,\u001b[49m\u001b[43mval_acc_barrier_blo\u001b[49m\u001b[38;5;241;43m.\u001b[39;49m\u001b[43mmean\u001b[49m\u001b[43m(\u001b[49m\u001b[38;5;241;43m0\u001b[39;49m\u001b[43m)\u001b[49m\u001b[38;5;241;43m-\u001b[39;49m\u001b[43mval_acc_barrier_blo\u001b[49m\u001b[38;5;241;43m.\u001b[39;49m\u001b[43mstd\u001b[49m\u001b[43m(\u001b[49m\u001b[38;5;241;43m0\u001b[39;49m\u001b[43m)\u001b[49m\u001b[43m,\u001b[49m\u001b[43mval_acc_barrier_blo\u001b[49m\u001b[38;5;241;43m.\u001b[39;49m\u001b[43mmean\u001b[49m\u001b[43m(\u001b[49m\u001b[38;5;241;43m0\u001b[39;49m\u001b[43m)\u001b[49m\u001b[38;5;241;43m+\u001b[39;49m\u001b[43mval_acc_barrier_blo\u001b[49m\u001b[38;5;241;43m.\u001b[39;49m\u001b[43mstd\u001b[49m\u001b[43m(\u001b[49m\u001b[38;5;241;43m0\u001b[39;49m\u001b[43m)\u001b[49m\u001b[43m,\u001b[49m\u001b[38;5;124;43m'\u001b[39;49m\u001b[38;5;124;43mg\u001b[39;49m\u001b[38;5;124;43m'\u001b[39;49m\u001b[43m,\u001b[49m\u001b[43m \u001b[49m\u001b[43malpha\u001b[49m\u001b[38;5;241;43m=\u001b[39;49m\u001b[38;5;241;43m0.2\u001b[39;49m\u001b[43m)\u001b[49m\n\u001b[0;32m     15\u001b[0m \u001b[38;5;66;03m# Get the handles and labels\u001b[39;00m\n\u001b[0;32m     16\u001b[0m handles, labels \u001b[38;5;241m=\u001b[39m plt\u001b[38;5;241m.\u001b[39mgca()\u001b[38;5;241m.\u001b[39mget_legend_handles_labels()\n",
      "File \u001b[1;32me:\\software\\Anaconda\\envs\\BLO\\lib\\site-packages\\matplotlib\\pyplot.py:2598\u001b[0m, in \u001b[0;36mfill_between\u001b[1;34m(x, y1, y2, where, interpolate, step, data, **kwargs)\u001b[0m\n\u001b[0;32m   2594\u001b[0m \u001b[38;5;129m@_copy_docstring_and_deprecators\u001b[39m(Axes\u001b[38;5;241m.\u001b[39mfill_between)\n\u001b[0;32m   2595\u001b[0m \u001b[38;5;28;01mdef\u001b[39;00m \u001b[38;5;21mfill_between\u001b[39m(\n\u001b[0;32m   2596\u001b[0m         x, y1, y2\u001b[38;5;241m=\u001b[39m\u001b[38;5;241m0\u001b[39m, where\u001b[38;5;241m=\u001b[39m\u001b[38;5;28;01mNone\u001b[39;00m, interpolate\u001b[38;5;241m=\u001b[39m\u001b[38;5;28;01mFalse\u001b[39;00m, step\u001b[38;5;241m=\u001b[39m\u001b[38;5;28;01mNone\u001b[39;00m, \u001b[38;5;241m*\u001b[39m,\n\u001b[0;32m   2597\u001b[0m         data\u001b[38;5;241m=\u001b[39m\u001b[38;5;28;01mNone\u001b[39;00m, \u001b[38;5;241m*\u001b[39m\u001b[38;5;241m*\u001b[39mkwargs):\n\u001b[1;32m-> 2598\u001b[0m     \u001b[38;5;28;01mreturn\u001b[39;00m \u001b[43mgca\u001b[49m\u001b[43m(\u001b[49m\u001b[43m)\u001b[49m\u001b[38;5;241;43m.\u001b[39;49m\u001b[43mfill_between\u001b[49m\u001b[43m(\u001b[49m\n\u001b[0;32m   2599\u001b[0m \u001b[43m        \u001b[49m\u001b[43mx\u001b[49m\u001b[43m,\u001b[49m\u001b[43m \u001b[49m\u001b[43my1\u001b[49m\u001b[43m,\u001b[49m\u001b[43m \u001b[49m\u001b[43my2\u001b[49m\u001b[38;5;241;43m=\u001b[39;49m\u001b[43my2\u001b[49m\u001b[43m,\u001b[49m\u001b[43m \u001b[49m\u001b[43mwhere\u001b[49m\u001b[38;5;241;43m=\u001b[39;49m\u001b[43mwhere\u001b[49m\u001b[43m,\u001b[49m\u001b[43m \u001b[49m\u001b[43minterpolate\u001b[49m\u001b[38;5;241;43m=\u001b[39;49m\u001b[43minterpolate\u001b[49m\u001b[43m,\u001b[49m\u001b[43m \u001b[49m\u001b[43mstep\u001b[49m\u001b[38;5;241;43m=\u001b[39;49m\u001b[43mstep\u001b[49m\u001b[43m,\u001b[49m\n\u001b[0;32m   2600\u001b[0m \u001b[43m        \u001b[49m\u001b[38;5;241;43m*\u001b[39;49m\u001b[38;5;241;43m*\u001b[39;49m\u001b[43m(\u001b[49m\u001b[43m{\u001b[49m\u001b[38;5;124;43m\"\u001b[39;49m\u001b[38;5;124;43mdata\u001b[39;49m\u001b[38;5;124;43m\"\u001b[39;49m\u001b[43m:\u001b[49m\u001b[43m \u001b[49m\u001b[43mdata\u001b[49m\u001b[43m}\u001b[49m\u001b[43m \u001b[49m\u001b[38;5;28;43;01mif\u001b[39;49;00m\u001b[43m \u001b[49m\u001b[43mdata\u001b[49m\u001b[43m \u001b[49m\u001b[38;5;129;43;01mis\u001b[39;49;00m\u001b[43m \u001b[49m\u001b[38;5;129;43;01mnot\u001b[39;49;00m\u001b[43m \u001b[49m\u001b[38;5;28;43;01mNone\u001b[39;49;00m\u001b[43m \u001b[49m\u001b[38;5;28;43;01melse\u001b[39;49;00m\u001b[43m \u001b[49m\u001b[43m{\u001b[49m\u001b[43m}\u001b[49m\u001b[43m)\u001b[49m\u001b[43m,\u001b[49m\u001b[43m \u001b[49m\u001b[38;5;241;43m*\u001b[39;49m\u001b[38;5;241;43m*\u001b[39;49m\u001b[43mkwargs\u001b[49m\u001b[43m)\u001b[49m\n",
      "File \u001b[1;32me:\\software\\Anaconda\\envs\\BLO\\lib\\site-packages\\matplotlib\\__init__.py:1473\u001b[0m, in \u001b[0;36m_preprocess_data.<locals>.inner\u001b[1;34m(ax, data, *args, **kwargs)\u001b[0m\n\u001b[0;32m   1470\u001b[0m \u001b[38;5;129m@functools\u001b[39m\u001b[38;5;241m.\u001b[39mwraps(func)\n\u001b[0;32m   1471\u001b[0m \u001b[38;5;28;01mdef\u001b[39;00m \u001b[38;5;21minner\u001b[39m(ax, \u001b[38;5;241m*\u001b[39margs, data\u001b[38;5;241m=\u001b[39m\u001b[38;5;28;01mNone\u001b[39;00m, \u001b[38;5;241m*\u001b[39m\u001b[38;5;241m*\u001b[39mkwargs):\n\u001b[0;32m   1472\u001b[0m     \u001b[38;5;28;01mif\u001b[39;00m data \u001b[38;5;129;01mis\u001b[39;00m \u001b[38;5;28;01mNone\u001b[39;00m:\n\u001b[1;32m-> 1473\u001b[0m         \u001b[38;5;28;01mreturn\u001b[39;00m \u001b[43mfunc\u001b[49m\u001b[43m(\u001b[49m\u001b[43max\u001b[49m\u001b[43m,\u001b[49m\u001b[43m \u001b[49m\u001b[38;5;241;43m*\u001b[39;49m\u001b[38;5;28;43mmap\u001b[39;49m\u001b[43m(\u001b[49m\u001b[43msanitize_sequence\u001b[49m\u001b[43m,\u001b[49m\u001b[43m \u001b[49m\u001b[43margs\u001b[49m\u001b[43m)\u001b[49m\u001b[43m,\u001b[49m\u001b[43m \u001b[49m\u001b[38;5;241;43m*\u001b[39;49m\u001b[38;5;241;43m*\u001b[39;49m\u001b[43mkwargs\u001b[49m\u001b[43m)\u001b[49m\n\u001b[0;32m   1475\u001b[0m     bound \u001b[38;5;241m=\u001b[39m new_sig\u001b[38;5;241m.\u001b[39mbind(ax, \u001b[38;5;241m*\u001b[39margs, \u001b[38;5;241m*\u001b[39m\u001b[38;5;241m*\u001b[39mkwargs)\n\u001b[0;32m   1476\u001b[0m     auto_label \u001b[38;5;241m=\u001b[39m (bound\u001b[38;5;241m.\u001b[39marguments\u001b[38;5;241m.\u001b[39mget(label_namer)\n\u001b[0;32m   1477\u001b[0m                   \u001b[38;5;129;01mor\u001b[39;00m bound\u001b[38;5;241m.\u001b[39mkwargs\u001b[38;5;241m.\u001b[39mget(label_namer))\n",
      "File \u001b[1;32me:\\software\\Anaconda\\envs\\BLO\\lib\\site-packages\\matplotlib\\axes\\_axes.py:5425\u001b[0m, in \u001b[0;36mAxes.fill_between\u001b[1;34m(self, x, y1, y2, where, interpolate, step, **kwargs)\u001b[0m\n\u001b[0;32m   5423\u001b[0m \u001b[38;5;28;01mdef\u001b[39;00m \u001b[38;5;21mfill_between\u001b[39m(\u001b[38;5;28mself\u001b[39m, x, y1, y2\u001b[38;5;241m=\u001b[39m\u001b[38;5;241m0\u001b[39m, where\u001b[38;5;241m=\u001b[39m\u001b[38;5;28;01mNone\u001b[39;00m, interpolate\u001b[38;5;241m=\u001b[39m\u001b[38;5;28;01mFalse\u001b[39;00m,\n\u001b[0;32m   5424\u001b[0m                  step\u001b[38;5;241m=\u001b[39m\u001b[38;5;28;01mNone\u001b[39;00m, \u001b[38;5;241m*\u001b[39m\u001b[38;5;241m*\u001b[39mkwargs):\n\u001b[1;32m-> 5425\u001b[0m     \u001b[38;5;28;01mreturn\u001b[39;00m \u001b[38;5;28;43mself\u001b[39;49m\u001b[38;5;241;43m.\u001b[39;49m\u001b[43m_fill_between_x_or_y\u001b[49m\u001b[43m(\u001b[49m\n\u001b[0;32m   5426\u001b[0m \u001b[43m        \u001b[49m\u001b[38;5;124;43m\"\u001b[39;49m\u001b[38;5;124;43mx\u001b[39;49m\u001b[38;5;124;43m\"\u001b[39;49m\u001b[43m,\u001b[49m\u001b[43m \u001b[49m\u001b[43mx\u001b[49m\u001b[43m,\u001b[49m\u001b[43m \u001b[49m\u001b[43my1\u001b[49m\u001b[43m,\u001b[49m\u001b[43m \u001b[49m\u001b[43my2\u001b[49m\u001b[43m,\u001b[49m\n\u001b[0;32m   5427\u001b[0m \u001b[43m        \u001b[49m\u001b[43mwhere\u001b[49m\u001b[38;5;241;43m=\u001b[39;49m\u001b[43mwhere\u001b[49m\u001b[43m,\u001b[49m\u001b[43m \u001b[49m\u001b[43minterpolate\u001b[49m\u001b[38;5;241;43m=\u001b[39;49m\u001b[43minterpolate\u001b[49m\u001b[43m,\u001b[49m\u001b[43m \u001b[49m\u001b[43mstep\u001b[49m\u001b[38;5;241;43m=\u001b[39;49m\u001b[43mstep\u001b[49m\u001b[43m,\u001b[49m\u001b[43m \u001b[49m\u001b[38;5;241;43m*\u001b[39;49m\u001b[38;5;241;43m*\u001b[39;49m\u001b[43mkwargs\u001b[49m\u001b[43m)\u001b[49m\n",
      "File \u001b[1;32me:\\software\\Anaconda\\envs\\BLO\\lib\\site-packages\\matplotlib\\axes\\_axes.py:5344\u001b[0m, in \u001b[0;36mAxes._fill_between_x_or_y\u001b[1;34m(self, ind_dir, ind, dep1, dep2, where, interpolate, step, **kwargs)\u001b[0m\n\u001b[0;32m   5342\u001b[0m     where \u001b[38;5;241m=\u001b[39m np\u001b[38;5;241m.\u001b[39masarray(where, dtype\u001b[38;5;241m=\u001b[39m\u001b[38;5;28mbool\u001b[39m)\n\u001b[0;32m   5343\u001b[0m     \u001b[38;5;28;01mif\u001b[39;00m where\u001b[38;5;241m.\u001b[39msize \u001b[38;5;241m!=\u001b[39m ind\u001b[38;5;241m.\u001b[39msize:\n\u001b[1;32m-> 5344\u001b[0m         \u001b[38;5;28;01mraise\u001b[39;00m \u001b[38;5;167;01mValueError\u001b[39;00m(\u001b[38;5;124mf\u001b[39m\u001b[38;5;124m\"\u001b[39m\u001b[38;5;124mwhere size (\u001b[39m\u001b[38;5;132;01m{\u001b[39;00mwhere\u001b[38;5;241m.\u001b[39msize\u001b[38;5;132;01m}\u001b[39;00m\u001b[38;5;124m) does not match \u001b[39m\u001b[38;5;124m\"\u001b[39m\n\u001b[0;32m   5345\u001b[0m                          \u001b[38;5;124mf\u001b[39m\u001b[38;5;124m\"\u001b[39m\u001b[38;5;132;01m{\u001b[39;00mind_dir\u001b[38;5;132;01m}\u001b[39;00m\u001b[38;5;124m size (\u001b[39m\u001b[38;5;132;01m{\u001b[39;00mind\u001b[38;5;241m.\u001b[39msize\u001b[38;5;132;01m}\u001b[39;00m\u001b[38;5;124m)\u001b[39m\u001b[38;5;124m\"\u001b[39m)\n\u001b[0;32m   5346\u001b[0m where \u001b[38;5;241m=\u001b[39m where \u001b[38;5;241m&\u001b[39m \u001b[38;5;241m~\u001b[39mfunctools\u001b[38;5;241m.\u001b[39mreduce(\n\u001b[0;32m   5347\u001b[0m     np\u001b[38;5;241m.\u001b[39mlogical_or, \u001b[38;5;28mmap\u001b[39m(np\u001b[38;5;241m.\u001b[39mma\u001b[38;5;241m.\u001b[39mgetmaskarray, [ind, dep1, dep2]))\n\u001b[0;32m   5349\u001b[0m ind, dep1, dep2 \u001b[38;5;241m=\u001b[39m np\u001b[38;5;241m.\u001b[39mbroadcast_arrays(\n\u001b[0;32m   5350\u001b[0m     np\u001b[38;5;241m.\u001b[39matleast_1d(ind), dep1, dep2, subok\u001b[38;5;241m=\u001b[39m\u001b[38;5;28;01mTrue\u001b[39;00m)\n",
      "\u001b[1;31mValueError\u001b[0m: where size (1) does not match x size (6)"
     ]
    },
    {
     "data": {
      "image/png": "[encoded data removed]",
      "text/plain": [
       "<Figure size 800x600 with 1 Axes>"
      ]
     },
     "metadata": {},
     "output_type": "display_data"
    }
   ],
   "source": [
    "plt.figure(figsize=(8,6))\n",
    "\n",
    "plt.plot(axis_lvhba,val_acc_lvhba.mean(0),'-', color = 'b',linewidth = 6, label=\"LV-HBA\")\n",
    "plt.fill_between(axis_lvhba,val_acc_lvhba.mean(0)-val_acc_lvhba.std(0),val_acc_lvhba.mean(0)+val_acc_lvhba.std(0), color = 'b',alpha=0.2)\n",
    "\n",
    "# plt.plot(axis_gam,val_acc_ga.mean(0),'--', color = cmap(2), linewidth = 4, label=\"GAM\")\n",
    "# plt.fill_between(axis_gam,val_acc_ga.mean(0)-val_acc_ga.std(0),val_acc_ga.mean(0)+val_acc_ga.std(0), color = cmap(2), alpha=0.2)\n",
    "\n",
    "plt.plot(axis_blocc,val_acc_blocc.mean(0),'-',color='r',linewidth = 6, label=\"BLOCC\")\n",
    "plt.fill_between(axis_blocc,val_acc_blocc.mean(0)-val_acc_blocc.std(0),val_acc_blocc.mean(0)+val_acc_blocc.std(0),color='r', alpha=0.2)\n",
    "\n",
    "plt.plot(axis_barrier_blo,val_acc_barrier_blo.mean(0),'-',color='g', linewidth = 6, label=\"barrier_blo\")\n",
    "plt.fill_between(axis_barrier_blo,val_acc_barrier_blo.mean(0)-val_acc_barrier_blo.std(0),val_acc_barrier_blo.mean(0)+val_acc_barrier_blo.std(0),'g', alpha=0.2)\n",
    "\n",
    "# Get the handles and labels\n",
    "handles, labels = plt.gca().get_legend_handles_labels()\n",
    "\n",
    "# Reorder the handles and labels as needed\n",
    "order = [2,0,1]\n",
    "ordered_handles = [handles[i] for i in order]\n",
    "ordered_labels = [labels[i] for i in order]\n",
    "\n",
    "# Create the legend with the new order\n",
    "plt.legend(ordered_handles, ordered_labels)\n",
    "              \n",
    "plt.title('Validation Accuracy')\n",
    "plt.xlabel('Running time /s')\n",
    "plt.ylabel(\"Accuracy\")\n",
    "plt.xlim([0,axis_lvhba.max()])\n",
    "plt.savefig(results_path + 'val_accuracy_running_time.pdf', bbox_inches=\"tight\")"
   ]
  },
  {
   "cell_type": "code",
   "execution_count": 71,
   "metadata": {
    "colab": {
     "base_uri": "https://localhost:8080/",
     "height": 1000
    },
    "id": "D0LEKbb0ijm5",
    "outputId": "ee201cd3-030d-4017-dca7-ca0efa6aa4c5"
   },
   "outputs": [
    {
     "ename": "NameError",
     "evalue": "name 'val_acc_ga' is not defined",
     "output_type": "error",
     "traceback": [
      "\u001b[1;31m---------------------------------------------------------------------------\u001b[0m",
      "\u001b[1;31mNameError\u001b[0m                                 Traceback (most recent call last)",
      "Cell \u001b[1;32mIn[71], line 3\u001b[0m\n\u001b[0;32m      1\u001b[0m plt\u001b[38;5;241m.\u001b[39mfigure(figsize\u001b[38;5;241m=\u001b[39m(\u001b[38;5;241m8\u001b[39m,\u001b[38;5;241m6\u001b[39m))\n\u001b[1;32m----> 3\u001b[0m iter_axis \u001b[38;5;241m=\u001b[39m np\u001b[38;5;241m.\u001b[39marange(\u001b[43mval_acc_ga\u001b[49m\u001b[38;5;241m.\u001b[39mshape[\u001b[38;5;241m1\u001b[39m])\n\u001b[0;32m      6\u001b[0m plt\u001b[38;5;241m.\u001b[39mplot(axis_iter,val_acc_lvhba\u001b[38;5;241m.\u001b[39mmean(\u001b[38;5;241m0\u001b[39m),\u001b[38;5;124m'\u001b[39m\u001b[38;5;124m-\u001b[39m\u001b[38;5;124m'\u001b[39m,color \u001b[38;5;241m=\u001b[39m cmap(\u001b[38;5;241m0\u001b[39m), linewidth \u001b[38;5;241m=\u001b[39m \u001b[38;5;241m4\u001b[39m,  label\u001b[38;5;241m=\u001b[39m\u001b[38;5;124m\"\u001b[39m\u001b[38;5;124mLV-HBA\u001b[39m\u001b[38;5;124m\"\u001b[39m)\n\u001b[0;32m      7\u001b[0m plt\u001b[38;5;241m.\u001b[39mfill_between(axis_iter,val_acc_lvhba\u001b[38;5;241m.\u001b[39mmean(\u001b[38;5;241m0\u001b[39m)\u001b[38;5;241m-\u001b[39mval_acc_lvhba\u001b[38;5;241m.\u001b[39mstd(\u001b[38;5;241m0\u001b[39m),val_acc_lvhba\u001b[38;5;241m.\u001b[39mmean(\u001b[38;5;241m0\u001b[39m)\u001b[38;5;241m+\u001b[39mval_acc_lvhba\u001b[38;5;241m.\u001b[39mstd(\u001b[38;5;241m0\u001b[39m),color \u001b[38;5;241m=\u001b[39m cmap(\u001b[38;5;241m0\u001b[39m), alpha\u001b[38;5;241m=\u001b[39m\u001b[38;5;241m0.2\u001b[39m)\n",
      "\u001b[1;31mNameError\u001b[0m: name 'val_acc_ga' is not defined"
     ]
    },
    {
     "data": {
      "text/plain": [
       "<Figure size 800x600 with 0 Axes>"
      ]
     },
     "metadata": {},
     "output_type": "display_data"
    }
   ],
   "source": [
    "plt.figure(figsize=(8,6))\n",
    "\n",
    "iter_axis = np.arange(val_acc_ga.shape[1])\n",
    "\n",
    "\n",
    "plt.plot(axis_iter,val_acc_lvhba.mean(0),'-',color = cmap(0), linewidth = 4,  label=\"LV-HBA\")\n",
    "plt.fill_between(axis_iter,val_acc_lvhba.mean(0)-val_acc_lvhba.std(0),val_acc_lvhba.mean(0)+val_acc_lvhba.std(0),color = cmap(0), alpha=0.2)\n",
    "\n",
    "# plt.plot(axis_iter,val_acc_ga.mean(0),'--',color = cmap(2),  linewidth = 4, label=\"GAM\")\n",
    "# plt.fill_between(axis_iter,val_acc_ga.mean(0)-val_acc_ga.std(0),val_acc_ga.mean(0)+val_acc_ga.std(0),color = cmap(2), alpha=0.2)\n",
    "\n",
    "plt.plot(axis_iter,val_acc_blocc.mean(0),'-',color = 'r', linewidth = 4, label=\"BLOCC\")\n",
    "plt.fill_between(axis_iter,val_acc_blocc.mean(0)-val_acc_blocc.std(0),val_acc_blocc.mean(0)+val_acc_blocc.std(0),color = 'r',alpha=0.2)\n",
    "\n",
    "plt.legend(ordered_handles, ordered_labels)\n",
    "\n",
    "plt.title('Validation Accuracy')\n",
    "plt.xlabel('Iteration Count')\n",
    "plt.ylabel(\"Accuracy\")\n",
    "\n",
    "\n",
    "plt.savefig(results_path + 'val_accuracy_iteration.pdf', bbox_inches=\"tight\")"
   ]
  },
  {
   "cell_type": "code",
   "execution_count": 69,
   "metadata": {
    "colab": {
     "base_uri": "https://localhost:8080/",
     "height": 1000
    },
    "id": "aGFLs12Iijm6",
    "outputId": "0224db43-10a4-4b7f-ae71-6af820a45736"
   },
   "outputs": [
    {
     "data": {
      "image/png": "[encoded data removed]",
      "text/plain": [
       "<Figure size 800x600 with 1 Axes>"
      ]
     },
     "metadata": {},
     "output_type": "display_data"
    }
   ],
   "source": [
    "plt.figure(figsize=(8,6))\n",
    "\n",
    "plt.plot(axis_lvhba,test_acc_lvhba.mean(0),'-',linewidth = 4, color = 'b',label=\"LV-HBA\")\n",
    "plt.fill_between(axis_lvhba,test_acc_lvhba.mean(0)-test_acc_lvhba.std(0),test_acc_lvhba.mean(0)+test_acc_lvhba.std(0),color = 'b',alpha=0.2)\n",
    "\n",
    "# plt.plot(axis_gam,test_acc_ga.mean(0),'--',linewidth = 4, color = cmap(2),label=\"GAM\")\n",
    "# plt.fill_between(axis_gam,test_acc_ga.mean(0)-test_acc_ga.std(0),test_acc_ga.mean(0)+test_acc_ga.std(0),color = cmap(2),alpha=0.2)\n",
    "\n",
    "plt.plot(axis_blocc,test_acc_blocc.mean(0),'-',linewidth = 4, color = 'r',label=\"BLOCC\")\n",
    "plt.fill_between(axis_blocc,test_acc_blocc.mean(0)-test_acc_blocc.std(0),test_acc_blocc.mean(0)+test_acc_blocc.std(0),color = 'r',alpha=0.2)\n",
    "\n",
    "plt.plot(axis_barrier_blo,test_acc_barrier_blo.mean(0),'--',linewidth = 4, color = 'g',label=\"Barrier_BLO\")\n",
    "plt.fill_between(axis_barrier_blo,test_acc_barrier_blo.mean(0)-test_acc_barrier_blo.std(0),test_acc_barrier_blo.mean(0)+test_acc_barrier_blo.std(0),color = 'g',alpha=0.2)\n",
    "\n",
    "# Get the handles and labels\n",
    "handles, labels = plt.gca().get_legend_handles_labels()\n",
    "# Reorder the handles and labels as needed\n",
    "order = [2,0,1]\n",
    "ordered_handles = [handles[i] for i in order]\n",
    "ordered_labels = [labels[i] for i in order]\n",
    "# Create the legend with the new order\n",
    "plt.legend(ordered_handles, ordered_labels)\n",
    "\n",
    "plt.title('Test Accuracy')\n",
    "plt.xlabel('Running time /s')\n",
    "plt.ylabel(\"Accuracy\")\n",
    "\n",
    "plt.xlim([0,axis_lvhba.max()])\n",
    "plt.savefig(results_path + 'test_accuracy_running_time.pdf', bbox_inches=\"tight\")"
   ]
  },
  {
   "cell_type": "code",
   "execution_count": 21,
   "metadata": {
    "colab": {
     "base_uri": "https://localhost:8080/",
     "height": 1000
    },
    "id": "XVtEMkjKijm6",
    "outputId": "598488df-ee32-4434-aba0-08fce9ea6607"
   },
   "outputs": [
    {
     "ename": "NameError",
     "evalue": "name 'test_acc_ga' is not defined",
     "output_type": "error",
     "traceback": [
      "\u001b[1;31m---------------------------------------------------------------------------\u001b[0m",
      "\u001b[1;31mNameError\u001b[0m                                 Traceback (most recent call last)",
      "Cell \u001b[1;32mIn[21], line 6\u001b[0m\n\u001b[0;32m      3\u001b[0m plt\u001b[38;5;241m.\u001b[39mplot(axis_iter,test_acc_lvhba\u001b[38;5;241m.\u001b[39mmean(\u001b[38;5;241m0\u001b[39m),\u001b[38;5;124m'\u001b[39m\u001b[38;5;124m-\u001b[39m\u001b[38;5;124m'\u001b[39m,color \u001b[38;5;241m=\u001b[39m cmap(\u001b[38;5;241m0\u001b[39m),linewidth \u001b[38;5;241m=\u001b[39m \u001b[38;5;241m4\u001b[39m, label\u001b[38;5;241m=\u001b[39m\u001b[38;5;124m\"\u001b[39m\u001b[38;5;124mLV-HBA\u001b[39m\u001b[38;5;124m\"\u001b[39m)\n\u001b[0;32m      4\u001b[0m plt\u001b[38;5;241m.\u001b[39mfill_between(axis_iter,test_acc_lvhba\u001b[38;5;241m.\u001b[39mmean(\u001b[38;5;241m0\u001b[39m)\u001b[38;5;241m-\u001b[39mtest_acc_lvhba\u001b[38;5;241m.\u001b[39mstd(\u001b[38;5;241m0\u001b[39m),test_acc_lvhba\u001b[38;5;241m.\u001b[39mmean(\u001b[38;5;241m0\u001b[39m)\u001b[38;5;241m+\u001b[39mtest_acc_lvhba\u001b[38;5;241m.\u001b[39mstd(\u001b[38;5;241m0\u001b[39m),color \u001b[38;5;241m=\u001b[39m cmap(\u001b[38;5;241m0\u001b[39m),alpha\u001b[38;5;241m=\u001b[39m\u001b[38;5;241m0.2\u001b[39m)\n\u001b[1;32m----> 6\u001b[0m plt\u001b[38;5;241m.\u001b[39mplot(axis_iter,\u001b[43mtest_acc_ga\u001b[49m\u001b[38;5;241m.\u001b[39mmean(\u001b[38;5;241m0\u001b[39m),\u001b[38;5;124m'\u001b[39m\u001b[38;5;124m--\u001b[39m\u001b[38;5;124m'\u001b[39m,color \u001b[38;5;241m=\u001b[39m cmap(\u001b[38;5;241m2\u001b[39m),linewidth \u001b[38;5;241m=\u001b[39m \u001b[38;5;241m4\u001b[39m, label\u001b[38;5;241m=\u001b[39m\u001b[38;5;124m\"\u001b[39m\u001b[38;5;124mGAM\u001b[39m\u001b[38;5;124m\"\u001b[39m)\n\u001b[0;32m      7\u001b[0m plt\u001b[38;5;241m.\u001b[39mfill_between(axis_iter,test_acc_ga\u001b[38;5;241m.\u001b[39mmean(\u001b[38;5;241m0\u001b[39m)\u001b[38;5;241m-\u001b[39mtest_acc_ga\u001b[38;5;241m.\u001b[39mstd(\u001b[38;5;241m0\u001b[39m),test_acc_ga\u001b[38;5;241m.\u001b[39mmean(\u001b[38;5;241m0\u001b[39m)\u001b[38;5;241m+\u001b[39mtest_acc_ga\u001b[38;5;241m.\u001b[39mstd(\u001b[38;5;241m0\u001b[39m),color \u001b[38;5;241m=\u001b[39m cmap(\u001b[38;5;241m2\u001b[39m),alpha\u001b[38;5;241m=\u001b[39m\u001b[38;5;241m0.2\u001b[39m)\n\u001b[0;32m     10\u001b[0m plt\u001b[38;5;241m.\u001b[39mplot(axis_iter,test_acc_blocc\u001b[38;5;241m.\u001b[39mmean(\u001b[38;5;241m0\u001b[39m),\u001b[38;5;124m'\u001b[39m\u001b[38;5;124m-\u001b[39m\u001b[38;5;124m'\u001b[39m,color \u001b[38;5;241m=\u001b[39m \u001b[38;5;124m'\u001b[39m\u001b[38;5;124mr\u001b[39m\u001b[38;5;124m'\u001b[39m,linewidth \u001b[38;5;241m=\u001b[39m \u001b[38;5;241m4\u001b[39m, label\u001b[38;5;241m=\u001b[39m\u001b[38;5;124m\"\u001b[39m\u001b[38;5;124mBLOCC\u001b[39m\u001b[38;5;124m\"\u001b[39m)\n",
      "\u001b[1;31mNameError\u001b[0m: name 'test_acc_ga' is not defined"
     ]
    },
    {
     "data": {
      "image/png": "[encoded data removed]",
      "text/plain": [
       "<Figure size 800x600 with 1 Axes>"
      ]
     },
     "metadata": {},
     "output_type": "display_data"
    }
   ],
   "source": [
    "plt.figure(figsize=(8,6))\n",
    "\n",
    "plt.plot(axis_iter,test_acc_lvhba.mean(0),'-',color = cmap(0),linewidth = 4, label=\"LV-HBA\")\n",
    "plt.fill_between(axis_iter,test_acc_lvhba.mean(0)-test_acc_lvhba.std(0),test_acc_lvhba.mean(0)+test_acc_lvhba.std(0),color = cmap(0),alpha=0.2)\n",
    "\n",
    "plt.plot(axis_iter,test_acc_ga.mean(0),'--',color = cmap(2),linewidth = 4, label=\"GAM\")\n",
    "plt.fill_between(axis_iter,test_acc_ga.mean(0)-test_acc_ga.std(0),test_acc_ga.mean(0)+test_acc_ga.std(0),color = cmap(2),alpha=0.2)\n",
    "\n",
    "\n",
    "plt.plot(axis_iter,test_acc_blocc.mean(0),'-',color = 'r',linewidth = 4, label=\"BLOCC\")\n",
    "plt.fill_between(axis_iter,test_acc_blocc.mean(0)-test_acc_blocc.std(0),test_acc_blocc.mean(0)+test_acc_blocc.std(0),color = 'r',alpha=0.2)\n",
    "\n",
    "\n",
    "plt.legend(ordered_handles, ordered_labels)\n",
    "\n",
    "plt.title('Test Accuracy')\n",
    "plt.xlabel('Iteration Count')\n",
    "plt.ylabel(\"Accuracy\")\n",
    "plt.savefig(results_path + 'test_accuracy_iteration.pdf', bbox_inches=\"tight\")"
   ]
  },
  {
   "cell_type": "code",
   "execution_count": null,
   "metadata": {
    "colab": {
     "base_uri": "https://localhost:8080/",
     "height": 1000
    },
    "id": "KX3DrG06ijm6",
    "outputId": "6c854c00-931d-4600-c652-870ab98272a3"
   },
   "outputs": [],
   "source": [
    "plt.figure(figsize=(8,6))\n",
    "\n",
    "\n",
    "plt.plot(iter_axis,val_loss_lvhba.mean(0),'-',color = cmap(0), linewidth = 4, label=\"LV-HBA\")\n",
    "fill_dn_LV = val_loss_lvhba.mean(0)-val_loss_lvhba.std(0)\n",
    "fill_up_LV = val_loss_lvhba.mean(0)+val_loss_lvhba.std(0)\n",
    "plt.fill_between(iter_axis[1:],fill_dn_LV[1:],fill_up_LV[1:],color = cmap(0), alpha=0.2)\n",
    "\n",
    "plt.plot(iter_axis,val_loss_ga.mean(0),'--',color = cmap(2), linewidth = 4, label=\"GAM\")\n",
    "fill_up_GAM = val_loss_ga.mean(0)-val_loss_ga.std(0)\n",
    "fill_dn_GAM = val_loss_ga.mean(0)+val_loss_ga.std(0)\n",
    "plt.fill_between(iter_axis[1:],fill_dn_GAM[1:],fill_up_GAM[1:],color = cmap(2), alpha=0.2)\n",
    "\n",
    "plt.plot(iter_axis,val_loss_blocc.mean(0),'-',color = 'r', linewidth = 4, label=\"BLOCC\")\n",
    "fill_dn_blocc = val_loss_blocc.mean(0)-val_loss_blocc.std(0)\n",
    "fill_up_blocc = val_loss_blocc.mean(0)+val_loss_blocc.std(0)\n",
    "plt.fill_between(iter_axis[1:],fill_dn_blocc[1:],fill_up_blocc[1:],color = 'r', alpha=0.2)\n",
    "\n",
    "plt.legend(ordered_handles, ordered_labels)\n",
    "\n",
    "plt.title('Validation Loss (Upper Level)')\n",
    "plt.xlabel('Iteration Count')\n",
    "plt.ylabel(\"Loss\")\n",
    "\n",
    "\n",
    "plt.ylim([1.5,3.4])\n",
    "plt.savefig(results_path + 'upper_obj_iteration.pdf', bbox_inches=\"tight\")"
   ]
  },
  {
   "cell_type": "code",
   "execution_count": null,
   "metadata": {
    "colab": {
     "base_uri": "https://localhost:8080/",
     "height": 1000
    },
    "id": "kbcj4fQ00Wok",
    "outputId": "1b50454c-070f-4e30-a396-52651155a1cd"
   },
   "outputs": [],
   "source": [
    "plt.figure(figsize=(8,6))\n",
    "\n",
    "\n",
    "plt.plot(axis_lvhba,val_loss_lvhba.mean(0),'-',color = cmap(0), linewidth = 4, label=\"LV-HBA\")\n",
    "fill_dn_LV = val_loss_lvhba.mean(0)-val_loss_lvhba.std(0)\n",
    "fill_up_LV = val_loss_lvhba.mean(0)+val_loss_lvhba.std(0)\n",
    "plt.fill_between(axis_lvhba[1:],fill_dn_LV[1:],fill_up_LV[1:],color = cmap(0), alpha=0.2)\n",
    "\n",
    "plt.plot(axis_gam,val_loss_ga.mean(0),'--',color = cmap(2), linewidth = 4, label=\"GAM\")\n",
    "fill_up_GAM = val_loss_ga.mean(0)-val_loss_ga.std(0)\n",
    "fill_dn_GAM = val_loss_ga.mean(0)+val_loss_ga.std(0)\n",
    "plt.fill_between(axis_gam[1:],fill_dn_GAM[1:],fill_up_GAM[1:],color = cmap(2), alpha=0.2)\n",
    "\n",
    "plt.plot(axis_blocc,val_loss_blocc.mean(0),'-',color = 'r', linewidth = 4, label=\"BLOCC\")\n",
    "fill_dn_blocc = val_loss_blocc.mean(0)-val_loss_blocc.std(0)\n",
    "fill_up_blocc = val_loss_blocc.mean(0)+val_loss_blocc.std(0)\n",
    "plt.fill_between(axis_blocc[1:],fill_dn_blocc[1:],fill_up_blocc[1:],color = 'r', alpha=0.2)\n",
    "\n",
    "plt.legend(ordered_handles, ordered_labels)\n",
    "plt.title('Validation Loss (Upper Level)')\n",
    "plt.xlabel('Running Time /s')\n",
    "plt.ylabel(\"Loss\")\n",
    "\n",
    "plt.ylim([1.5,4])\n",
    "plt.xlim([0,13])\n",
    "plt.xlim([0,axis_lvhba.max()])\n",
    "plt.savefig(results_path + 'upper_obj_time.pdf', bbox_inches=\"tight\")"
   ]
  },
  {
   "cell_type": "code",
   "execution_count": null,
   "metadata": {
    "colab": {
     "base_uri": "https://localhost:8080/",
     "height": 1000
    },
    "id": "_dakhYjXijm6",
    "outputId": "b7f1f97e-3c16-4d77-c066-02f3fa6f7529"
   },
   "outputs": [],
   "source": [
    "plt.figure(figsize=(8,6))\n",
    "\n",
    "\n",
    "plt.plot(iter_axis,test_loss_lvhba.mean(0),'-',color = cmap(0), linewidth = 4, label=\"LV-HBA\")\n",
    "fill_dn_LV = test_loss_lvhba.mean(0)-test_loss_lvhba.std(0)\n",
    "fill_up_LV = test_loss_lvhba.mean(0)+test_loss_lvhba.std(0)\n",
    "plt.fill_between(iter_axis[1:],fill_dn_LV[1:],fill_up_LV[1:],color = cmap(0), alpha=0.2)\n",
    "\n",
    "plt.plot(iter_axis,test_loss_ga.mean(0),'--',color = cmap(2), linewidth = 4, label=\"GAM\")\n",
    "fill_up_GAM = test_loss_ga.mean(0)-test_loss_ga.std(0)\n",
    "fill_dn_GAM = test_loss_ga.mean(0)+test_loss_ga.std(0)\n",
    "plt.fill_between(iter_axis[1:],fill_dn_GAM[1:],fill_up_GAM[1:],color = cmap(2), alpha=0.2)\n",
    "\n",
    "plt.plot(iter_axis,test_loss_blocc.mean(0),'-',color = 'r', linewidth = 4, label=\"BLOCC\")\n",
    "fill_dn_blocc = test_loss_blocc.mean(0)-test_loss_blocc.std(0)\n",
    "fill_up_blocc = test_loss_blocc.mean(0)+test_loss_blocc.std(0)\n",
    "plt.fill_between(iter_axis[1:],fill_dn_blocc[1:],fill_up_blocc[1:],color = 'r', alpha=0.2)\n",
    "plt.legend()\n",
    "plt.title('Test Loss')\n",
    "plt.xlabel('Iteration Count')\n",
    "plt.ylabel(\"Loss\")\n",
    "\n",
    "plt.ylim([1.5,3.4])\n",
    "plt.savefig(results_path + 'test_obj_iteration.pdf', bbox_inches=\"tight\")"
   ]
  },
  {
   "cell_type": "code",
   "execution_count": null,
   "metadata": {
    "colab": {
     "base_uri": "https://localhost:8080/",
     "height": 1000
    },
    "id": "fFbZ64H16zeS",
    "outputId": "a348d4de-0c6c-462d-b656-748e4b6be635"
   },
   "outputs": [],
   "source": [
    "plt.figure(figsize=(8,6))\n",
    "\n",
    "plt.plot(iter_axis[1:],lower_loss_blocc.mean(0),'-',color = 'r', linewidth = 4, label=\"BLOCC\")\n",
    "# fill_dn_blocc = lower_loss_blocc.mean(0)-lower_loss_blocc.std(0)\n",
    "# fill_up_blocc = lower_loss_blocc.mean(0)+lower_loss_blocc.std(0)\n",
    "# plt.fill_between(iter_axis[1:],fill_dn_blocc,fill_up_blocc,alpha=0.2)\n",
    "# the above didn't work as the standard deviation is too small\n",
    "\n",
    "plt.plot(iter_axis[1:],lower_loss_lvhba.mean(0),'-',color = cmap(0), linewidth = 4, label=\"LV-HBA\")\n",
    "fill_dn_LV = lower_loss_lvhba.mean(0)-lower_loss_lvhba.std(0)\n",
    "fill_up_LV = lower_loss_lvhba.mean(0)+lower_loss_lvhba.std(0)\n",
    "plt.fill_between(iter_axis[1:],fill_dn_LV,fill_up_LV,color = cmap(0),alpha=0.2)\n",
    "\n",
    "plt.plot(iter_axis[1:],lower_loss_ga.mean(0),'--', color = cmap(2),linewidth = 4, label=\"GAM\")\n",
    "fill_up_GAM = lower_loss_ga.mean(0)-lower_loss_ga.std(0)\n",
    "fill_dn_GAM = lower_loss_ga.mean(0)+lower_loss_ga.std(0)\n",
    "plt.fill_between(iter_axis[1:],fill_dn_GAM,fill_up_GAM,color = cmap(2),alpha=0.2)\n",
    "\n",
    "plt.legend()\n",
    "plt.title('Lower Level Objective')\n",
    "plt.xlabel('Iteration Count')\n",
    "plt.ylabel(\"Loss\")\n",
    "\n",
    "plt.savefig(results_path + 'lower_obj_iteration.pdf', bbox_inches=\"tight\")"
   ]
  },
  {
   "cell_type": "code",
   "execution_count": null,
   "metadata": {},
   "outputs": [],
   "source": [
    "plt.figure(figsize=(8,6))\n",
    "\n",
    "plt.plot(axis_blocc[1:],lower_loss_blocc.mean(0),'-',color = 'r', linewidth = 4, label=\"BLOCC\")\n",
    "# fill_dn_blocc = lower_loss_blocc.mean(0)-lower_loss_blocc.std(0)\n",
    "# fill_up_blocc = lower_loss_blocc.mean(0)+lower_loss_blocc.std(0)\n",
    "# plt.fill_between(iter_axis[1:],fill_dn_blocc,fill_up_blocc,alpha=0.2)\n",
    "# the above didn't work as the standard deviation is too small\n",
    "\n",
    "plt.plot(axis_lvhba[1:],lower_loss_lvhba.mean(0),'-',color = cmap(0), linewidth = 4, label=\"LV-HBA\")\n",
    "fill_dn_LV = lower_loss_lvhba.mean(0)-lower_loss_lvhba.std(0)\n",
    "fill_up_LV = lower_loss_lvhba.mean(0)+lower_loss_lvhba.std(0)\n",
    "plt.fill_between(axis_lvhba[1:],fill_dn_LV,fill_up_LV,color = cmap(0),alpha=0.2)\n",
    "\n",
    "plt.plot(axis_gam[1:],lower_loss_ga.mean(0),'--', color = cmap(2),linewidth = 4, label=\"GAM\")\n",
    "fill_up_GAM = lower_loss_ga.mean(0)-lower_loss_ga.std(0)\n",
    "fill_dn_GAM = lower_loss_ga.mean(0)+lower_loss_ga.std(0)\n",
    "plt.fill_between(axis_gam[1:],fill_dn_GAM,fill_up_GAM,color = cmap(2),alpha=0.2)\n",
    "\n",
    "plt.legend()\n",
    "plt.title('Lower Level Objective')\n",
    "plt.xlabel('Running Time /s')\n",
    "plt.ylabel(\"Loss\")\n",
    "plt.xlim([0,axis_lvhba.max()])\n",
    "\n",
    "plt.savefig(results_path + 'lower_obj_time.pdf', bbox_inches=\"tight\")"
   ]
  },
  {
   "cell_type": "markdown",
   "metadata": {},
   "source": [
    "# Dataset Fourclass"
   ]
  },
  {
   "cell_type": "code",
   "execution_count": null,
   "metadata": {},
   "outputs": [],
   "source": [
    "dataset_name = \"fourclass\"\n",
    "data = load_fourclass()\n",
    "\n",
    "n_train = 500\n",
    "n_val = 150"
   ]
  },
  {
   "cell_type": "code",
   "execution_count": null,
   "metadata": {},
   "outputs": [],
   "source": [
    "metrics_fourclass = {}\n",
    "variables_fourclass = {}\n",
    "\n",
    "algs = ['blocc', 'lv_hba', 'gam']\n",
    "\n",
    "for a in algs:\n",
    "    metrics_fourclass[a] = []\n",
    "    variables_fourclass[a] = []\n",
    "\n",
    "for seed in range(seeds):\n",
    "\n",
    "    print(f\"Starting seed {seed+1}/{seeds}: \", end=\"\")\n",
    "\n",
    "    x_train, y_train, x_val, y_val, x_test, y_test = train_val_test_split(data, seed, n_train, n_val)\n",
    "\n",
    "    for alg in algs:\n",
    "        print(f\"{alg}\", end=\" \")\n",
    "\n",
    "        metrics_seed, variables_seed = eval(alg)(x_train, y_train, x_val, y_val, x_test, y_test, hparams[alg], epochs, verbose=False)\n",
    "        metrics_fourclass[alg].append(metrics_seed)\n",
    "        variables_fourclass[alg].append(variables_seed)\n",
    "    print(\"DONE\")"
   ]
  },
  {
   "cell_type": "markdown",
   "metadata": {},
   "source": [
    "## Evaluation"
   ]
  },
  {
   "cell_type": "code",
   "execution_count": null,
   "metadata": {},
   "outputs": [],
   "source": [
    "results_path = 'Plots_fourclass/'#f'../results/hyperparam_opt/{dataset_name}/'"
   ]
  },
  {
   "cell_type": "code",
   "execution_count": null,
   "metadata": {},
   "outputs": [],
   "source": [
    "metrics_lvhba = metrics_fourclass['lv_hba']\n",
    "metrics_gam = metrics_fourclass['gam']\n",
    "metrics_blocc = metrics_fourclass['blocc']\n",
    "\n",
    "\n",
    "axis_lvhba_all = np.array([[x['time_computation'] for x in metrics] for metrics in metrics_lvhba])\n",
    "axis_gam_all = np.array([[x['time_computation'] for x in metrics] for metrics in metrics_gam])\n",
    "axis_blocc_all = np.array([[x['time_computation'] for x in metrics] for metrics in metrics_blocc])\n",
    "\n",
    "axis_lvhba = axis_lvhba_all.mean(0)\n",
    "axis_gam = axis_gam_all.mean(0)\n",
    "axis_blocc = axis_blocc_all.mean(0)\n",
    "\n",
    "axis_iter = np.arange(epochs)"
   ]
  },
  {
   "cell_type": "code",
   "execution_count": null,
   "metadata": {},
   "outputs": [],
   "source": [
    "train_acc_lvhba = np.array([[x['train_acc'] for x in metrics] for metrics in metrics_lvhba])\n",
    "train_acc_ga = np.array([[x['train_acc'] for x in metrics] for metrics in metrics_gam])\n",
    "train_acc_blocc = np.array([[x['train_acc_F'] for x in metrics] for metrics in metrics_blocc])\n",
    "\n",
    "val_acc_lvhba = np.array([[x['val_acc'] for x in metrics] for metrics in metrics_lvhba])\n",
    "val_acc_ga = np.array([[x['val_acc'] for x in metrics] for metrics in metrics_gam])\n",
    "val_acc_blocc = np.array([[x['val_acc_F'] for x in metrics] for metrics in metrics_blocc])\n",
    "\n",
    "test_acc_lvhba = np.array([[x['test_acc'] for x in metrics] for metrics in metrics_lvhba])\n",
    "test_acc_ga = np.array([[x['test_acc'] for x in metrics] for metrics in metrics_gam])\n",
    "test_acc_blocc = np.array([[x['test_acc_F'] for x in metrics] for metrics in metrics_blocc])"
   ]
  },
  {
   "cell_type": "code",
   "execution_count": null,
   "metadata": {},
   "outputs": [],
   "source": [
    "val_loss_lvhba = np.array([[x['val_loss'] for x in metrics] for metrics in metrics_lvhba])[:,0:]\n",
    "val_loss_ga = np.array([[x['val_loss'] for x in metrics] for metrics in metrics_gam])[:,0:]\n",
    "val_loss_blocc = np.array([[x['val_loss_F'] for x in metrics] for metrics in metrics_blocc])[:,0:]\n",
    "\n",
    "test_loss_lvhba = np.array([[x['test_loss'] for x in metrics] for metrics in metrics_lvhba])[:,0:]\n",
    "test_loss_ga = np.array([[x['test_loss'] for x in metrics] for metrics in metrics_gam])[:,0:]\n",
    "test_loss_blocc = np.array([[x['test_loss_F'] for x in metrics] for metrics in metrics_blocc])[:,0:]\n",
    "\n",
    "lower_loss_lvhba = np.array([[x['loss_lower'] for x in metrics] for metrics in metrics_lvhba])[:,1:]\n",
    "lower_loss_ga = np.array([[x['loss_lower'] for x in metrics] for metrics in metrics_gam])[:,1:]\n",
    "lower_loss_blocc = np.array([[x['loss_lower'] for x in metrics] for metrics in metrics_blocc])[:,1:]\n"
   ]
  },
  {
   "cell_type": "markdown",
   "metadata": {},
   "source": [
    "### Measuring Convergence Time\n",
    "When `(UpperLoss_{t+1}-UpperLoss_t)^2` is smaller than `eps = 1e-10`. We say convergence happen."
   ]
  },
  {
   "cell_type": "code",
   "execution_count": null,
   "metadata": {},
   "outputs": [],
   "source": [
    "print(\"-------------- Accuracy -------------\")\n",
    "print('blocc: {:0.3f} ({:0.3f})'.format(test_acc_blocc[:,-1].mean(),test_acc_blocc[:,-1].std()))\n",
    "print('lvhba: {:0.3f} ({:0.3f})'.format(test_acc_lvhba[:,-1].mean(),test_acc_lvhba[:,-1].std()))\n",
    "print('gam: {:0.3f} ({:0.3f})'.format(test_acc_ga[:,-1].mean(),test_acc_ga[:,-1].std()))"
   ]
  },
  {
   "cell_type": "code",
   "execution_count": null,
   "metadata": {},
   "outputs": [],
   "source": [
    "eps = 1e-5\n",
    "\n",
    "diff_val_loss_blocc = np.diff(val_loss_blocc,axis=1)**2\n",
    "diff_val_loss_blocc[diff_val_loss_blocc<eps]=0\n",
    "converged_id_blocc = np.argmin(diff_val_loss_blocc,axis = 1)\n",
    "\n",
    "diff_val_loss_lvhba = np.diff(val_loss_lvhba,axis=1)**2\n",
    "diff_val_loss_lvhba[diff_val_loss_lvhba<eps]=0\n",
    "converged_id_lvhba = np.argmin(diff_val_loss_lvhba,axis = 1)\n",
    "\n",
    "diff_val_loss_ga = np.diff(val_loss_ga,axis=1)**2\n",
    "diff_val_loss_ga[diff_val_loss_ga<eps]=0\n",
    "converged_id_ga = np.argmin(diff_val_loss_ga,axis = 1)\n",
    "\n",
    "time_blocc = []\n",
    "time_lvhba = []\n",
    "time_ga = []\n",
    "for i in range(seeds):\n",
    "    time_blocc.append(axis_blocc_all[i,converged_id_blocc[i]+1])\n",
    "    time_lvhba.append(axis_lvhba_all[i,converged_id_lvhba[i]+1])\n",
    "    time_ga.append(axis_gam_all[i,converged_id_ga[i]+1])\n",
    "\n",
    "time_blocc = np.array(time_blocc)\n",
    "time_lvhba = np.array(time_lvhba)\n",
    "time_ga = np.array(time_ga)\n",
    "print(\"-------------- Running Time -------------\")\n",
    "print('blocc: {:0.3f} ({:0.3f})'.format(time_blocc.mean(),time_blocc.std()))\n",
    "print('lvhba: {:0.3f} ({:0.3f})'.format(time_lvhba.mean(),time_lvhba.std()))\n",
    "print('gam: {:0.3f} ({:0.3f})'.format(time_ga.mean(),time_ga.std()))"
   ]
  },
  {
   "cell_type": "markdown",
   "metadata": {},
   "source": [
    "### Plots"
   ]
  },
  {
   "cell_type": "code",
   "execution_count": null,
   "metadata": {},
   "outputs": [],
   "source": [
    "plt.figure(figsize=(8,6))\n",
    "\n",
    "plt.plot(axis_lvhba,val_acc_lvhba.mean(0),'-', color = cmap(0),linewidth = 4, label=\"LV-HBA\")\n",
    "plt.fill_between(axis_lvhba,val_acc_lvhba.mean(0)-val_acc_lvhba.std(0),val_acc_lvhba.mean(0)+val_acc_lvhba.std(0), color = cmap(0),alpha=0.2)\n",
    "\n",
    "plt.plot(axis_gam,val_acc_ga.mean(0),'--', color = cmap(2), linewidth = 4, label=\"GAM\")\n",
    "plt.fill_between(axis_gam,val_acc_ga.mean(0)-val_acc_ga.std(0),val_acc_ga.mean(0)+val_acc_ga.std(0), color = cmap(2), alpha=0.2)\n",
    "\n",
    "plt.plot(axis_blocc,val_acc_blocc.mean(0),'-',color='r',linewidth = 4, label=\"BLOCC\")\n",
    "plt.fill_between(axis_blocc,val_acc_blocc.mean(0)-val_acc_blocc.std(0),val_acc_blocc.mean(0)+val_acc_blocc.std(0),color='r', alpha=0.2)\n",
    "\n",
    "# Get the handles and labels\n",
    "handles, labels = plt.gca().get_legend_handles_labels()\n",
    "\n",
    "# Reorder the handles and labels as needed\n",
    "order = [2,0,1]\n",
    "ordered_handles = [handles[i] for i in order]\n",
    "ordered_labels = [labels[i] for i in order]\n",
    "\n",
    "# Create the legend with the new order\n",
    "plt.legend(ordered_handles, ordered_labels)\n",
    "              \n",
    "plt.title('Validation Accuracy')\n",
    "plt.xlabel('Running time /s')\n",
    "plt.ylabel(\"Accuracy\")\n",
    "plt.xlim([0,axis_lvhba.max()])\n",
    "plt.savefig(results_path + 'val_accuracy_running_time.pdf', bbox_inches=\"tight\")"
   ]
  },
  {
   "cell_type": "code",
   "execution_count": null,
   "metadata": {},
   "outputs": [],
   "source": [
    "plt.figure(figsize=(8,6))\n",
    "\n",
    "iter_axis = np.arange(val_acc_ga.shape[1])\n",
    "\n",
    "\n",
    "plt.plot(axis_iter,val_acc_lvhba.mean(0),'-',color = cmap(0), linewidth = 4,  label=\"LV-HBA\")\n",
    "plt.fill_between(axis_iter,val_acc_lvhba.mean(0)-val_acc_lvhba.std(0),val_acc_lvhba.mean(0)+val_acc_lvhba.std(0),color = cmap(0), alpha=0.2)\n",
    "\n",
    "plt.plot(axis_iter,val_acc_ga.mean(0),'--',color = cmap(2),  linewidth = 4, label=\"GAM\")\n",
    "plt.fill_between(axis_iter,val_acc_ga.mean(0)-val_acc_ga.std(0),val_acc_ga.mean(0)+val_acc_ga.std(0),color = cmap(2), alpha=0.2)\n",
    "\n",
    "plt.plot(axis_iter,val_acc_blocc.mean(0),'-',color = 'r', linewidth = 4, label=\"BLOCC\")\n",
    "plt.fill_between(axis_iter,val_acc_blocc.mean(0)-val_acc_blocc.std(0),val_acc_blocc.mean(0)+val_acc_blocc.std(0),color = 'r',alpha=0.2)\n",
    "\n",
    "plt.legend(ordered_handles, ordered_labels)\n",
    "\n",
    "plt.title('Validation Accuracy')\n",
    "plt.xlabel('Iteration Count')\n",
    "plt.ylabel(\"Accuracy\")\n",
    "\n",
    "\n",
    "plt.savefig(results_path + 'val_accuracy_iteration.pdf', bbox_inches=\"tight\")"
   ]
  },
  {
   "cell_type": "code",
   "execution_count": null,
   "metadata": {},
   "outputs": [],
   "source": [
    "plt.figure(figsize=(8,6))\n",
    "\n",
    "plt.plot(axis_lvhba,test_acc_lvhba.mean(0),'-',linewidth = 4, color = cmap(0),label=\"LV-HBA\")\n",
    "plt.fill_between(axis_lvhba,test_acc_lvhba.mean(0)-test_acc_lvhba.std(0),test_acc_lvhba.mean(0)+test_acc_lvhba.std(0),color = cmap(0),alpha=0.2)\n",
    "\n",
    "plt.plot(axis_gam,test_acc_ga.mean(0),'--',linewidth = 4, color = cmap(2),label=\"GAM\")\n",
    "plt.fill_between(axis_gam,test_acc_ga.mean(0)-test_acc_ga.std(0),test_acc_ga.mean(0)+test_acc_ga.std(0),color = cmap(2),alpha=0.2)\n",
    "\n",
    "plt.plot(axis_blocc,test_acc_blocc.mean(0),'-',linewidth = 4, color = 'r',label=\"BLOCC\")\n",
    "plt.fill_between(axis_blocc,test_acc_blocc.mean(0)-test_acc_blocc.std(0),test_acc_blocc.mean(0)+test_acc_blocc.std(0),color = 'r',alpha=0.2)\n",
    "\n",
    "# Get the handles and labels\n",
    "handles, labels = plt.gca().get_legend_handles_labels()\n",
    "# Reorder the handles and labels as needed\n",
    "order = [2,0,1]\n",
    "ordered_handles = [handles[i] for i in order]\n",
    "ordered_labels = [labels[i] for i in order]\n",
    "# Create the legend with the new order\n",
    "plt.legend(ordered_handles, ordered_labels)\n",
    "\n",
    "plt.title('Test Accuracy')\n",
    "plt.xlabel('Running time /s')\n",
    "plt.ylabel(\"Accuracy\")\n",
    "\n",
    "plt.xlim([0,axis_lvhba.max()])\n",
    "plt.savefig(results_path + 'test_accuracy_running_time.pdf', bbox_inches=\"tight\")"
   ]
  },
  {
   "cell_type": "code",
   "execution_count": null,
   "metadata": {},
   "outputs": [],
   "source": [
    "plt.figure(figsize=(8,6))\n",
    "\n",
    "plt.plot(axis_iter,test_acc_lvhba.mean(0),'-',color = cmap(0),linewidth = 4, label=\"LV-HBA\")\n",
    "plt.fill_between(axis_iter,test_acc_lvhba.mean(0)-test_acc_lvhba.std(0),test_acc_lvhba.mean(0)+test_acc_lvhba.std(0),color = cmap(0),alpha=0.2)\n",
    "\n",
    "plt.plot(axis_iter,test_acc_ga.mean(0),'--',color = cmap(2),linewidth = 4, label=\"GAM\")\n",
    "plt.fill_between(axis_iter,test_acc_ga.mean(0)-test_acc_ga.std(0),test_acc_ga.mean(0)+test_acc_ga.std(0),color = cmap(2),alpha=0.2)\n",
    "\n",
    "\n",
    "plt.plot(axis_iter,test_acc_blocc.mean(0),'-',color = 'r',linewidth = 4, label=\"BLOCC\")\n",
    "plt.fill_between(axis_iter,test_acc_blocc.mean(0)-test_acc_blocc.std(0),test_acc_blocc.mean(0)+test_acc_blocc.std(0),color = 'r',alpha=0.2)\n",
    "\n",
    "\n",
    "plt.legend(ordered_handles, ordered_labels)\n",
    "\n",
    "plt.title('Test Accuracy')\n",
    "plt.xlabel('Iteration Count')\n",
    "plt.ylabel(\"Accuracy\")\n",
    "plt.savefig(results_path + 'test_accuracy_iteration.pdf', bbox_inches=\"tight\")"
   ]
  },
  {
   "cell_type": "code",
   "execution_count": null,
   "metadata": {},
   "outputs": [],
   "source": [
    "plt.figure(figsize=(8,6))\n",
    "\n",
    "\n",
    "plt.plot(iter_axis,val_loss_lvhba.mean(0),'-',color = cmap(0), linewidth = 4, label=\"LV-HBA\")\n",
    "fill_dn_LV = val_loss_lvhba.mean(0)-val_loss_lvhba.std(0)\n",
    "fill_up_LV = val_loss_lvhba.mean(0)+val_loss_lvhba.std(0)\n",
    "plt.fill_between(iter_axis[1:],fill_dn_LV[1:],fill_up_LV[1:],color = cmap(0), alpha=0.2)\n",
    "\n",
    "plt.plot(iter_axis,val_loss_ga.mean(0),'--',color = cmap(2), linewidth = 4, label=\"GAM\")\n",
    "fill_up_GAM = val_loss_ga.mean(0)-val_loss_ga.std(0)\n",
    "fill_dn_GAM = val_loss_ga.mean(0)+val_loss_ga.std(0)\n",
    "plt.fill_between(iter_axis[1:],fill_dn_GAM[1:],fill_up_GAM[1:],color = cmap(2), alpha=0.2)\n",
    "\n",
    "plt.plot(iter_axis,val_loss_blocc.mean(0),'-',color = 'r', linewidth = 4, label=\"BLOCC\")\n",
    "fill_dn_blocc = val_loss_blocc.mean(0)-val_loss_blocc.std(0)\n",
    "fill_up_blocc = val_loss_blocc.mean(0)+val_loss_blocc.std(0)\n",
    "plt.fill_between(iter_axis[1:],fill_dn_blocc[1:],fill_up_blocc[1:],color = 'r', alpha=0.2)\n",
    "\n",
    "plt.legend(ordered_handles, ordered_labels)\n",
    "\n",
    "plt.title('Validation Loss / Upper Level Objective')\n",
    "plt.xlabel('Iteration Count')\n",
    "plt.ylabel(\"Loss\")\n",
    "\n",
    "\n",
    "plt.ylim([1.5,3.4])\n",
    "plt.savefig(results_path + 'upper_obj_iteration.pdf', bbox_inches=\"tight\")"
   ]
  },
  {
   "cell_type": "code",
   "execution_count": null,
   "metadata": {},
   "outputs": [],
   "source": [
    "plt.figure(figsize=(8,6))\n",
    "\n",
    "\n",
    "plt.plot(axis_lvhba,val_loss_lvhba.mean(0),'-',color = cmap(0), linewidth = 4, label=\"LV-HBA\")\n",
    "fill_dn_LV = val_loss_lvhba.mean(0)-val_loss_lvhba.std(0)\n",
    "fill_up_LV = val_loss_lvhba.mean(0)+val_loss_lvhba.std(0)\n",
    "plt.fill_between(axis_lvhba[1:],fill_dn_LV[1:],fill_up_LV[1:],color = cmap(0), alpha=0.2)\n",
    "\n",
    "plt.plot(axis_gam,val_loss_ga.mean(0),'--',color = cmap(2), linewidth = 4, label=\"GAM\")\n",
    "fill_up_GAM = val_loss_ga.mean(0)-val_loss_ga.std(0)\n",
    "fill_dn_GAM = val_loss_ga.mean(0)+val_loss_ga.std(0)\n",
    "plt.fill_between(axis_gam[1:],fill_dn_GAM[1:],fill_up_GAM[1:],color = cmap(2), alpha=0.2)\n",
    "\n",
    "plt.plot(axis_blocc,val_loss_blocc.mean(0),'-',color = 'r', linewidth = 4, label=\"BLOCC\")\n",
    "fill_dn_blocc = val_loss_blocc.mean(0)-val_loss_blocc.std(0)\n",
    "fill_up_blocc = val_loss_blocc.mean(0)+val_loss_blocc.std(0)\n",
    "plt.fill_between(axis_blocc[1:],fill_dn_blocc[1:],fill_up_blocc[1:],color = 'r', alpha=0.2)\n",
    "\n",
    "plt.legend(ordered_handles, ordered_labels)\n",
    "plt.title('Validation Loss (Upper Level)')\n",
    "plt.xlabel('Running Time /s')\n",
    "plt.ylabel(\"Loss\")\n",
    "\n",
    "plt.ylim([1.5,4])\n",
    "plt.xlim([0,13])\n",
    "plt.xlim([0,axis_lvhba.max()])\n",
    "plt.savefig(results_path + 'upper_obj_time.pdf', bbox_inches=\"tight\")"
   ]
  },
  {
   "cell_type": "code",
   "execution_count": null,
   "metadata": {},
   "outputs": [],
   "source": [
    "plt.figure(figsize=(8,6))\n",
    "\n",
    "fill_dn_blocc = test_loss_blocc.mean(0)-test_loss_blocc.std(0)\n",
    "fill_up_blocc = test_loss_blocc.mean(0)+test_loss_blocc.std(0)\n",
    "plt.fill_between(iter_axis[1:],fill_dn_blocc[1:],fill_up_blocc[1:],color = 'r', alpha=0.2)\n",
    "\n",
    "fill_dn_LV = test_loss_lvhba.mean(0)-test_loss_lvhba.std(0)\n",
    "fill_up_LV = test_loss_lvhba.mean(0)+test_loss_lvhba.std(0)\n",
    "plt.fill_between(iter_axis[1:],fill_dn_LV[1:],fill_up_LV[1:],color = cmap(0), alpha=0.2)\n",
    "\n",
    "fill_up_GAM = test_loss_ga.mean(0)-test_loss_ga.std(0)\n",
    "fill_dn_GAM = test_loss_ga.mean(0)+test_loss_ga.std(0)\n",
    "plt.fill_between(iter_axis[1:],fill_dn_GAM[1:],fill_up_GAM[1:],color = cmap(2), alpha=0.2)\n",
    "\n",
    "plt.plot(iter_axis,test_loss_lvhba.mean(0),'-',color = cmap(0), linewidth = 4, label=\"LV-HBA\")\n",
    "\n",
    "plt.plot(iter_axis,test_loss_ga.mean(0),'--',color = cmap(2), linewidth = 4, label=\"GAM\")\n",
    "\n",
    "plt.plot(iter_axis,test_loss_blocc.mean(0),'-',color = 'r', linewidth = 4, label=\"BLOCC\")\n",
    "\n",
    "\n",
    "plt.legend(ordered_handles, ordered_labels)\n",
    "plt.title('Test Loss')\n",
    "plt.xlabel('Iteration Count')\n",
    "plt.ylabel(\"Loss\")\n",
    "\n",
    "plt.ylim([1.5,3.4])\n",
    "plt.savefig(results_path + 'test_obj_iteration.pdf', bbox_inches=\"tight\")"
   ]
  },
  {
   "cell_type": "code",
   "execution_count": null,
   "metadata": {
    "scrolled": true
   },
   "outputs": [],
   "source": [
    "plt.figure(figsize=(8,6))\n",
    "\n",
    "plt.plot(iter_axis[1:],lower_loss_blocc.mean(0),'-',color = 'r', linewidth = 4, label=\"BLOCC\")\n",
    "# fill_dn_blocc = lower_loss_blocc.mean(0)-lower_loss_blocc.std(0)\n",
    "# fill_up_blocc = lower_loss_blocc.mean(0)+lower_loss_blocc.std(0)\n",
    "# plt.fill_between(iter_axis[1:],fill_dn_blocc,fill_up_blocc,alpha=0.2)\n",
    "# the above didn't work as the standard deviation is too small\n",
    "\n",
    "plt.plot(iter_axis[1:],lower_loss_lvhba.mean(0),'-',color = cmap(0), linewidth = 4, label=\"LV-HBA\")\n",
    "fill_dn_LV = lower_loss_lvhba.mean(0)-lower_loss_lvhba.std(0)\n",
    "fill_up_LV = lower_loss_lvhba.mean(0)+lower_loss_lvhba.std(0)\n",
    "plt.fill_between(iter_axis[1:],fill_dn_LV,fill_up_LV,color = cmap(0),alpha=0.2)\n",
    "\n",
    "plt.plot(iter_axis[1:],lower_loss_ga.mean(0),'--', color = cmap(2),linewidth = 4, label=\"GAM\")\n",
    "fill_up_GAM = lower_loss_ga.mean(0)-lower_loss_ga.std(0)\n",
    "fill_dn_GAM = lower_loss_ga.mean(0)+lower_loss_ga.std(0)\n",
    "plt.fill_between(iter_axis[1:],fill_dn_GAM,fill_up_GAM,color = cmap(2),alpha=0.2)\n",
    "\n",
    "plt.legend()\n",
    "plt.title('Lower Loss')\n",
    "plt.xlabel('Iteration Count')\n",
    "plt.ylabel(\"Loss\")\n",
    "\n",
    "plt.savefig(results_path + 'lower_obj_iteration.pdf', bbox_inches=\"tight\")"
   ]
  },
  {
   "cell_type": "code",
   "execution_count": null,
   "metadata": {},
   "outputs": [],
   "source": [
    "plt.figure(figsize=(8,6))\n",
    "\n",
    "plt.plot(axis_blocc[1:],lower_loss_blocc.mean(0),'-',color = 'r', linewidth = 4, label=\"BLOCC\")\n",
    "# fill_dn_blocc = lower_loss_blocc.mean(0)-lower_loss_blocc.std(0)\n",
    "# fill_up_blocc = lower_loss_blocc.mean(0)+lower_loss_blocc.std(0)\n",
    "# plt.fill_between(iter_axis[1:],fill_dn_blocc,fill_up_blocc,alpha=0.2)\n",
    "# the above didn't work as the standard deviation is too small\n",
    "\n",
    "plt.plot(axis_lvhba[1:],lower_loss_lvhba.mean(0),'-',color = cmap(0), linewidth = 4, label=\"LV-HBA\")\n",
    "fill_dn_LV = lower_loss_lvhba.mean(0)-lower_loss_lvhba.std(0)\n",
    "fill_up_LV = lower_loss_lvhba.mean(0)+lower_loss_lvhba.std(0)\n",
    "plt.fill_between(axis_lvhba[1:],fill_dn_LV,fill_up_LV,color = cmap(0),alpha=0.2)\n",
    "\n",
    "plt.plot(axis_gam[1:],lower_loss_ga.mean(0),'--', color = cmap(2),linewidth = 4, label=\"GAM\")\n",
    "fill_up_GAM = lower_loss_ga.mean(0)-lower_loss_ga.std(0)\n",
    "fill_dn_GAM = lower_loss_ga.mean(0)+lower_loss_ga.std(0)\n",
    "plt.fill_between(axis_gam[1:],fill_dn_GAM,fill_up_GAM,color = cmap(2),alpha=0.2)\n",
    "\n",
    "plt.legend()\n",
    "plt.title('Lower Level Objective')\n",
    "plt.xlabel('Running Time /s')\n",
    "plt.ylabel(\"Loss\")\n",
    "plt.xlim([0,axis_lvhba.max()])\n",
    "\n",
    "plt.savefig(results_path + 'lower_obj_time.pdf', bbox_inches=\"tight\")"
   ]
  },
  {
   "cell_type": "code",
   "execution_count": null,
   "metadata": {},
   "outputs": [],
   "source": []
  },
  {
   "cell_type": "code",
   "execution_count": null,
   "metadata": {},
   "outputs": [],
   "source": []
  },
  {
   "cell_type": "code",
   "execution_count": null,
   "metadata": {},
   "outputs": [],
   "source": []
  }
 ],
 "metadata": {
  "colab": {
   "provenance": []
  },
  "kernelspec": {
   "display_name": "Python 3 (ipykernel)",
   "language": "python",
   "name": "python3"
  },
  "language_info": {
   "codemirror_mode": {
    "name": "ipython",
    "version": 3
   },
   "file_extension": ".py",
   "mimetype": "text/x-python",
   "name": "python",
   "nbconvert_exporter": "python",
   "pygments_lexer": "ipython3",
   "version": "3.8.18"
  }
 },
 "nbformat": 4,
 "nbformat_minor": 4
}
