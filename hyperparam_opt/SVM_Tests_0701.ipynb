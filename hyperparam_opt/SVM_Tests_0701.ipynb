{
 "cells": [
  {
   "cell_type": "code",
   "execution_count": 10,
   "metadata": {},
   "outputs": [],
   "source": [
    "import numpy as np\n",
    "import matplotlib.pyplot as plt\n",
    "\n",
    "from algorithms.gam import gam\n",
    "from algorithms.lv_hba import lv_hba\n",
    "from algorithms.blocc import blocc\n",
    "\n",
    "from utils import *"
   ]
  },
  {
   "cell_type": "code",
   "execution_count": null,
   "metadata": {
    "colab": {
     "base_uri": "https://localhost:8080/"
    },
    "id": "Zxss_QAsir5b",
    "outputId": "fbf541c5-4295-491e-cb37-e5fc0652b214"
   },
   "outputs": [],
   "source": [
    "# from google.colab import drive\n",
    "# drive.mount('/content/drive')"
   ]
  },
  {
   "cell_type": "code",
   "execution_count": 11,
   "metadata": {
    "id": "r3iQ96Rzijm2"
   },
   "outputs": [],
   "source": [
    "plt.rcParams.update({'font.size': 32})\n",
    "plt.rcParams['font.sans-serif']=['Times New Roman']\n",
    "plt.rcParams['axes.unicode_minus']=False\n",
    "cmap = plt.get_cmap(\"tab10\")"
   ]
  },
  {
   "cell_type": "code",
   "execution_count": 12,
   "metadata": {
    "id": "i4KUBQ1oijm3"
   },
   "outputs": [],
   "source": [
    "epochs = 80\n",
    "seeds = 10"
   ]
  },
  {
   "cell_type": "code",
   "execution_count": 13,
   "metadata": {
    "id": "m5b5XMjiijm3"
   },
   "outputs": [],
   "source": [
    "hparams = {\n",
    "    'lv_hba': {\n",
    "        'alpha': 0.01,\n",
    "        'gama1': 0.1,\n",
    "        'gama2': 0.1,\n",
    "        'yita': 0.001\n",
    "    },\n",
    "    'gam': {\n",
    "        'alpha': 0.05,\n",
    "        'epsilon': 0.005\n",
    "    },\n",
    "    'blocc': {\n",
    "        'gam': 10,\n",
    "        'eta': 0.01\n",
    "    }\n",
    "}"
   ]
  },
  {
   "cell_type": "markdown",
   "metadata": {
    "id": "8Gf6jFJ3ijm2"
   },
   "source": [
    "# Dataset Diabetes"
   ]
  },
  {
   "cell_type": "code",
   "execution_count": 14,
   "metadata": {
    "id": "Oox_S_0Kijm3"
   },
   "outputs": [],
   "source": [
    "dataset_name = \"diabetes\"\n",
    "data = load_diabetes()\n",
    "\n",
    "n_train = 500\n",
    "n_val = 150"
   ]
  },
  {
   "cell_type": "code",
   "execution_count": 16,
   "metadata": {},
   "outputs": [
    {
     "data": {
      "text/plain": [
       "((500, 45), (150, 45), (118, 45))"
      ]
     },
     "execution_count": 16,
     "metadata": {},
     "output_type": "execute_result"
    }
   ],
   "source": [
    "x_train, y_train, x_val, y_val, x_test, y_test = train_val_test_split(data, 10, n_train, n_val)\n",
    "x_train.shape, x_val.shape, x_test.shape"
   ]
  },
  {
   "cell_type": "code",
   "execution_count": null,
   "metadata": {
    "colab": {
     "base_uri": "https://localhost:8080/"
    },
    "id": "eCdsxdeKijm3",
    "outputId": "f3b6ca8c-5b29-4ae1-fca3-f023c7b47573"
   },
   "outputs": [],
   "source": [
    "metrics_diabetes = {}\n",
    "variables_diabetes = {}\n",
    "\n",
    "algs = ['blocc', 'lv_hba', 'gam']\n",
    "\n",
    "for a in algs:\n",
    "    metrics_diabetes[a] = []\n",
    "    variables_diabetes[a] = []\n",
    "\n",
    "for seed in range(seeds):\n",
    "\n",
    "    print(f\"Starting seed {seed+1}/{seeds}: \", end=\"\")\n",
    "\n",
    "    x_train, y_train, x_val, y_val, x_test, y_test = train_val_test_split(data, seed, n_train, n_val)\n",
    "\n",
    "    for alg in algs:\n",
    "        print(f\"{alg}\", end=\" \")\n",
    "\n",
    "        metrics_seed, variables_seed = eval(alg)(x_train, y_train, x_val, y_val, x_test, y_test, hparams[alg], epochs, verbose=False)\n",
    "        metrics_diabetes[alg].append(metrics_seed)\n",
    "        variables_diabetes[alg].append(variables_seed)\n",
    "    print(\"DONE\")"
   ]
  },
  {
   "cell_type": "markdown",
   "metadata": {
    "id": "DlIkNu2Sijm4"
   },
   "source": [
    "## Evaluation"
   ]
  },
  {
   "cell_type": "code",
   "execution_count": null,
   "metadata": {},
   "outputs": [],
   "source": [
    "results_path = 'Plots_diabetes/'# f'../results/hyperparam_opt/{dataset_name}/'"
   ]
  },
  {
   "cell_type": "code",
   "execution_count": null,
   "metadata": {
    "id": "g3N_Q1Jeijm4"
   },
   "outputs": [],
   "source": [
    "metrics_lvhba = metrics_diabetes['lv_hba']\n",
    "metrics_gam = metrics_diabetes['gam']\n",
    "metrics_blocc = metrics_diabetes['blocc']\n",
    "\n",
    "axis_lvhba_all = np.array([[x['time_computation'] for x in metrics] for metrics in metrics_lvhba])\n",
    "axis_gam_all = np.array([[x['time_computation'] for x in metrics] for metrics in metrics_gam])\n",
    "axis_blocc_all = np.array([[x['time_computation'] for x in metrics] for metrics in metrics_blocc])\n",
    "\n",
    "axis_lvhba = axis_lvhba_all.mean(0)\n",
    "axis_gam = axis_gam_all.mean(0)\n",
    "axis_blocc = axis_blocc_all.mean(0)\n",
    "\n",
    "axis_iter = np.arange(epochs)"
   ]
  },
  {
   "cell_type": "code",
   "execution_count": null,
   "metadata": {
    "id": "ZzUwVpimijm5"
   },
   "outputs": [],
   "source": [
    "train_acc_lvhba = np.array([[x['train_acc'] for x in metric] for metric in metrics_lvhba])\n",
    "train_acc_ga = np.array([[x['train_acc'] for x in metric] for metric in metrics_gam])\n",
    "train_acc_blocc = np.array([[x['train_acc_F'] for x in metric] for metric in metrics_blocc])\n",
    "\n",
    "val_acc_lvhba = np.array([[x['val_acc'] for x in metric] for metric in metrics_lvhba])\n",
    "val_acc_ga = np.array([[x['val_acc'] for x in metric] for metric in metrics_gam])\n",
    "val_acc_blocc = np.array([[x['val_acc_F'] for x in metric] for metric in metrics_blocc])\n",
    "\n",
    "test_acc_lvhba = np.array([[x['test_acc'] for x in metric] for metric in metrics_lvhba])\n",
    "test_acc_ga = np.array([[x['test_acc'] for x in metric] for metric in metrics_gam])\n",
    "test_acc_blocc = np.array([[x['test_acc_F'] for x in metric] for metric in metrics_blocc])"
   ]
  },
  {
   "cell_type": "code",
   "execution_count": null,
   "metadata": {
    "id": "B9_4cxbyijm5"
   },
   "outputs": [],
   "source": [
    "val_loss_lvhba = np.array([[x['val_loss'] for x in metric] for metric in metrics_lvhba])[:,0:]\n",
    "val_loss_ga = np.array([[x['val_loss'] for x in metric] for metric in metrics_gam])[:,0:]\n",
    "val_loss_blocc = np.array([[x['val_loss_F'] for x in metric] for metric in metrics_blocc])[:,0:]\n",
    "\n",
    "test_loss_lvhba = np.array([[x['test_loss'] for x in metric] for metric in metrics_lvhba])[:,0:]\n",
    "test_loss_ga = np.array([[x['test_loss'] for x in metric] for metric in metrics_gam])[:,0:]\n",
    "test_loss_blocc = np.array([[x['test_loss_F'] for x in metric] for metric in metrics_blocc])[:,0:]\n",
    "\n",
    "lower_loss_lvhba = np.array([[x['loss_lower'] for x in metric] for metric in metrics_lvhba])[:,1:]\n",
    "lower_loss_ga = np.array([[x['loss_lower'] for x in metric] for metric in metrics_gam])[:,1:]\n",
    "lower_loss_blocc = np.array([[x['loss_lower'] for x in metric] for metric in metrics_blocc])[:,1:]\n",
    "\n",
    "# constraint_violation_lvhba = np.array([[x['constraint_violation'] for x in metric] for metric in metrics_lvhba])[:,1:]\n",
    "# constraint_violation_blocc = np.array([[x['constraint_violation'] for x in metric] for metric in metrics_blocc])[:,1:]"
   ]
  },
  {
   "cell_type": "markdown",
   "metadata": {},
   "source": [
    "### Measuring Convergence Time\n",
    "When `(UpperLoss_{t+1}-UpperLoss_t)^2` is smaller than `eps = 1e-5`. We say convergence happen."
   ]
  },
  {
   "cell_type": "code",
   "execution_count": null,
   "metadata": {},
   "outputs": [],
   "source": [
    "print(\"-------------- Accuracy -------------\")\n",
    "print('blocc: {:0.3f} ({:0.3f})'.format(test_acc_blocc[:,-1].mean(),test_acc_blocc[:,-1].std()))\n",
    "print('lvhba: {:0.3f} ({:0.3f})'.format(test_acc_lvhba[:,-1].mean(),test_acc_lvhba[:,-1].std()))\n",
    "print('gam: {:0.3f} ({:0.3f})'.format(test_acc_ga[:,-1].mean(),test_acc_ga[:,-1].std()))"
   ]
  },
  {
   "cell_type": "code",
   "execution_count": null,
   "metadata": {},
   "outputs": [],
   "source": [
    "eps = 1e-5\n",
    "\n",
    "diff_val_loss_blocc = np.diff(val_loss_blocc,axis=1)**2\n",
    "diff_val_loss_blocc[diff_val_loss_blocc<eps]=0\n",
    "converged_id_blocc = np.argmin(diff_val_loss_blocc,axis = 1)\n",
    "\n",
    "diff_val_loss_lvhba = np.diff(val_loss_lvhba,axis=1)**2\n",
    "diff_val_loss_lvhba[diff_val_loss_lvhba<eps]=0\n",
    "converged_id_lvhba = np.argmin(diff_val_loss_lvhba,axis = 1)\n",
    "\n",
    "diff_val_loss_ga = np.diff(val_loss_ga,axis=1)**2\n",
    "diff_val_loss_ga[diff_val_loss_ga<eps]=0\n",
    "converged_id_ga = np.argmin(diff_val_loss_ga,axis = 1)\n",
    "\n",
    "time_blocc = []\n",
    "time_lvhba = []\n",
    "time_ga = []\n",
    "for i in range(seeds):\n",
    "    time_blocc.append(axis_blocc_all[i,converged_id_blocc[i]+1])\n",
    "    time_lvhba.append(axis_lvhba_all[i,converged_id_lvhba[i]+1])\n",
    "    time_ga.append(axis_gam_all[i,converged_id_ga[i]+1])\n",
    "\n",
    "time_blocc = np.array(time_blocc)\n",
    "time_lvhba = np.array(time_lvhba)\n",
    "time_ga = np.array(time_ga)\n",
    "print(\"-------------- Running Time -------------\")\n",
    "print('blocc: {:0.3f} ({:0.3f})'.format(time_blocc.mean(),time_blocc.std()))\n",
    "print('lvhba: {:0.3f} ({:0.3f})'.format(time_lvhba.mean(),time_lvhba.std()))\n",
    "print('gam: {:0.3f} ({:0.3f})'.format(time_ga.mean(),time_ga.std()))\n"
   ]
  },
  {
   "cell_type": "markdown",
   "metadata": {},
   "source": [
    "### Plots"
   ]
  },
  {
   "cell_type": "code",
   "execution_count": null,
   "metadata": {
    "colab": {
     "base_uri": "https://localhost:8080/",
     "height": 1000
    },
    "id": "WLpvRc7lijm5",
    "outputId": "c83dfda5-b16e-4937-d32c-f430169c42f7"
   },
   "outputs": [],
   "source": [
    "plt.figure(figsize=(8,6))\n",
    "\n",
    "plt.plot(axis_lvhba,val_acc_lvhba.mean(0),'-', color = cmap(0),linewidth = 4, label=\"LV-HBA\")\n",
    "plt.fill_between(axis_lvhba,val_acc_lvhba.mean(0)-val_acc_lvhba.std(0),val_acc_lvhba.mean(0)+val_acc_lvhba.std(0), color = cmap(0),alpha=0.2)\n",
    "\n",
    "plt.plot(axis_gam,val_acc_ga.mean(0),'--', color = cmap(2), linewidth = 4, label=\"GAM\")\n",
    "plt.fill_between(axis_gam,val_acc_ga.mean(0)-val_acc_ga.std(0),val_acc_ga.mean(0)+val_acc_ga.std(0), color = cmap(2), alpha=0.2)\n",
    "\n",
    "plt.plot(axis_blocc,val_acc_blocc.mean(0),'-',color='r',linewidth = 4, label=\"BLOCC\")\n",
    "plt.fill_between(axis_blocc,val_acc_blocc.mean(0)-val_acc_blocc.std(0),val_acc_blocc.mean(0)+val_acc_blocc.std(0),color='r', alpha=0.2)\n",
    "\n",
    "# Get the handles and labels\n",
    "handles, labels = plt.gca().get_legend_handles_labels()\n",
    "\n",
    "# Reorder the handles and labels as needed\n",
    "order = [2,0,1]\n",
    "ordered_handles = [handles[i] for i in order]\n",
    "ordered_labels = [labels[i] for i in order]\n",
    "\n",
    "# Create the legend with the new order\n",
    "plt.legend(ordered_handles, ordered_labels)\n",
    "              \n",
    "plt.title('Validation Accuracy')\n",
    "plt.xlabel('Running time /s')\n",
    "plt.ylabel(\"Accuracy\")\n",
    "plt.xlim([0,axis_lvhba.max()])\n",
    "plt.savefig(results_path + 'val_accuracy_running_time.pdf', bbox_inches=\"tight\")"
   ]
  },
  {
   "cell_type": "code",
   "execution_count": null,
   "metadata": {
    "colab": {
     "base_uri": "https://localhost:8080/",
     "height": 1000
    },
    "id": "D0LEKbb0ijm5",
    "outputId": "ee201cd3-030d-4017-dca7-ca0efa6aa4c5"
   },
   "outputs": [],
   "source": [
    "plt.figure(figsize=(8,6))\n",
    "\n",
    "iter_axis = np.arange(val_acc_ga.shape[1])\n",
    "\n",
    "\n",
    "plt.plot(axis_iter,val_acc_lvhba.mean(0),'-',color = cmap(0), linewidth = 4,  label=\"LV-HBA\")\n",
    "plt.fill_between(axis_iter,val_acc_lvhba.mean(0)-val_acc_lvhba.std(0),val_acc_lvhba.mean(0)+val_acc_lvhba.std(0),color = cmap(0), alpha=0.2)\n",
    "\n",
    "plt.plot(axis_iter,val_acc_ga.mean(0),'--',color = cmap(2),  linewidth = 4, label=\"GAM\")\n",
    "plt.fill_between(axis_iter,val_acc_ga.mean(0)-val_acc_ga.std(0),val_acc_ga.mean(0)+val_acc_ga.std(0),color = cmap(2), alpha=0.2)\n",
    "\n",
    "plt.plot(axis_iter,val_acc_blocc.mean(0),'-',color = 'r', linewidth = 4, label=\"BLOCC\")\n",
    "plt.fill_between(axis_iter,val_acc_blocc.mean(0)-val_acc_blocc.std(0),val_acc_blocc.mean(0)+val_acc_blocc.std(0),color = 'r',alpha=0.2)\n",
    "\n",
    "plt.legend(ordered_handles, ordered_labels)\n",
    "\n",
    "plt.title('Validation Accuracy')\n",
    "plt.xlabel('Iteration Count')\n",
    "plt.ylabel(\"Accuracy\")\n",
    "\n",
    "\n",
    "plt.savefig(results_path + 'val_accuracy_iteration.pdf', bbox_inches=\"tight\")"
   ]
  },
  {
   "cell_type": "code",
   "execution_count": null,
   "metadata": {
    "colab": {
     "base_uri": "https://localhost:8080/",
     "height": 1000
    },
    "id": "aGFLs12Iijm6",
    "outputId": "0224db43-10a4-4b7f-ae71-6af820a45736"
   },
   "outputs": [],
   "source": [
    "plt.figure(figsize=(8,6))\n",
    "\n",
    "plt.plot(axis_lvhba,test_acc_lvhba.mean(0),'-',linewidth = 4, color = cmap(0),label=\"LV-HBA\")\n",
    "plt.fill_between(axis_lvhba,test_acc_lvhba.mean(0)-test_acc_lvhba.std(0),test_acc_lvhba.mean(0)+test_acc_lvhba.std(0),color = cmap(0),alpha=0.2)\n",
    "\n",
    "plt.plot(axis_gam,test_acc_ga.mean(0),'--',linewidth = 4, color = cmap(2),label=\"GAM\")\n",
    "plt.fill_between(axis_gam,test_acc_ga.mean(0)-test_acc_ga.std(0),test_acc_ga.mean(0)+test_acc_ga.std(0),color = cmap(2),alpha=0.2)\n",
    "\n",
    "plt.plot(axis_blocc,test_acc_blocc.mean(0),'-',linewidth = 4, color = 'r',label=\"BLOCC\")\n",
    "plt.fill_between(axis_blocc,test_acc_blocc.mean(0)-test_acc_blocc.std(0),test_acc_blocc.mean(0)+test_acc_blocc.std(0),color = 'r',alpha=0.2)\n",
    "\n",
    "# Get the handles and labels\n",
    "handles, labels = plt.gca().get_legend_handles_labels()\n",
    "# Reorder the handles and labels as needed\n",
    "order = [2,0,1]\n",
    "ordered_handles = [handles[i] for i in order]\n",
    "ordered_labels = [labels[i] for i in order]\n",
    "# Create the legend with the new order\n",
    "plt.legend(ordered_handles, ordered_labels)\n",
    "\n",
    "plt.title('Test Accuracy')\n",
    "plt.xlabel('Running time /s')\n",
    "plt.ylabel(\"Accuracy\")\n",
    "\n",
    "plt.xlim([0,axis_lvhba.max()])\n",
    "plt.savefig(results_path + 'test_accuracy_running_time.pdf', bbox_inches=\"tight\")"
   ]
  },
  {
   "cell_type": "code",
   "execution_count": null,
   "metadata": {
    "colab": {
     "base_uri": "https://localhost:8080/",
     "height": 1000
    },
    "id": "XVtEMkjKijm6",
    "outputId": "598488df-ee32-4434-aba0-08fce9ea6607"
   },
   "outputs": [],
   "source": [
    "plt.figure(figsize=(8,6))\n",
    "\n",
    "plt.plot(axis_iter,test_acc_lvhba.mean(0),'-',color = cmap(0),linewidth = 4, label=\"LV-HBA\")\n",
    "plt.fill_between(axis_iter,test_acc_lvhba.mean(0)-test_acc_lvhba.std(0),test_acc_lvhba.mean(0)+test_acc_lvhba.std(0),color = cmap(0),alpha=0.2)\n",
    "\n",
    "plt.plot(axis_iter,test_acc_ga.mean(0),'--',color = cmap(2),linewidth = 4, label=\"GAM\")\n",
    "plt.fill_between(axis_iter,test_acc_ga.mean(0)-test_acc_ga.std(0),test_acc_ga.mean(0)+test_acc_ga.std(0),color = cmap(2),alpha=0.2)\n",
    "\n",
    "\n",
    "plt.plot(axis_iter,test_acc_blocc.mean(0),'-',color = 'r',linewidth = 4, label=\"BLOCC\")\n",
    "plt.fill_between(axis_iter,test_acc_blocc.mean(0)-test_acc_blocc.std(0),test_acc_blocc.mean(0)+test_acc_blocc.std(0),color = 'r',alpha=0.2)\n",
    "\n",
    "\n",
    "plt.legend(ordered_handles, ordered_labels)\n",
    "\n",
    "plt.title('Test Accuracy')\n",
    "plt.xlabel('Iteration Count')\n",
    "plt.ylabel(\"Accuracy\")\n",
    "plt.savefig(results_path + 'test_accuracy_iteration.pdf', bbox_inches=\"tight\")"
   ]
  },
  {
   "cell_type": "code",
   "execution_count": null,
   "metadata": {
    "colab": {
     "base_uri": "https://localhost:8080/",
     "height": 1000
    },
    "id": "KX3DrG06ijm6",
    "outputId": "6c854c00-931d-4600-c652-870ab98272a3"
   },
   "outputs": [],
   "source": [
    "plt.figure(figsize=(8,6))\n",
    "\n",
    "\n",
    "plt.plot(iter_axis,val_loss_lvhba.mean(0),'-',color = cmap(0), linewidth = 4, label=\"LV-HBA\")\n",
    "fill_dn_LV = val_loss_lvhba.mean(0)-val_loss_lvhba.std(0)\n",
    "fill_up_LV = val_loss_lvhba.mean(0)+val_loss_lvhba.std(0)\n",
    "plt.fill_between(iter_axis[1:],fill_dn_LV[1:],fill_up_LV[1:],color = cmap(0), alpha=0.2)\n",
    "\n",
    "plt.plot(iter_axis,val_loss_ga.mean(0),'--',color = cmap(2), linewidth = 4, label=\"GAM\")\n",
    "fill_up_GAM = val_loss_ga.mean(0)-val_loss_ga.std(0)\n",
    "fill_dn_GAM = val_loss_ga.mean(0)+val_loss_ga.std(0)\n",
    "plt.fill_between(iter_axis[1:],fill_dn_GAM[1:],fill_up_GAM[1:],color = cmap(2), alpha=0.2)\n",
    "\n",
    "plt.plot(iter_axis,val_loss_blocc.mean(0),'-',color = 'r', linewidth = 4, label=\"BLOCC\")\n",
    "fill_dn_blocc = val_loss_blocc.mean(0)-val_loss_blocc.std(0)\n",
    "fill_up_blocc = val_loss_blocc.mean(0)+val_loss_blocc.std(0)\n",
    "plt.fill_between(iter_axis[1:],fill_dn_blocc[1:],fill_up_blocc[1:],color = 'r', alpha=0.2)\n",
    "\n",
    "plt.legend(ordered_handles, ordered_labels)\n",
    "\n",
    "plt.title('Validation Loss (Upper Level)')\n",
    "plt.xlabel('Iteration Count')\n",
    "plt.ylabel(\"Loss\")\n",
    "\n",
    "\n",
    "plt.ylim([1.5,3.4])\n",
    "plt.savefig(results_path + 'upper_obj_iteration.pdf', bbox_inches=\"tight\")"
   ]
  },
  {
   "cell_type": "code",
   "execution_count": null,
   "metadata": {
    "colab": {
     "base_uri": "https://localhost:8080/",
     "height": 1000
    },
    "id": "kbcj4fQ00Wok",
    "outputId": "1b50454c-070f-4e30-a396-52651155a1cd"
   },
   "outputs": [],
   "source": [
    "plt.figure(figsize=(8,6))\n",
    "\n",
    "\n",
    "plt.plot(axis_lvhba,val_loss_lvhba.mean(0),'-',color = cmap(0), linewidth = 4, label=\"LV-HBA\")\n",
    "fill_dn_LV = val_loss_lvhba.mean(0)-val_loss_lvhba.std(0)\n",
    "fill_up_LV = val_loss_lvhba.mean(0)+val_loss_lvhba.std(0)\n",
    "plt.fill_between(axis_lvhba[1:],fill_dn_LV[1:],fill_up_LV[1:],color = cmap(0), alpha=0.2)\n",
    "\n",
    "plt.plot(axis_gam,val_loss_ga.mean(0),'--',color = cmap(2), linewidth = 4, label=\"GAM\")\n",
    "fill_up_GAM = val_loss_ga.mean(0)-val_loss_ga.std(0)\n",
    "fill_dn_GAM = val_loss_ga.mean(0)+val_loss_ga.std(0)\n",
    "plt.fill_between(axis_gam[1:],fill_dn_GAM[1:],fill_up_GAM[1:],color = cmap(2), alpha=0.2)\n",
    "\n",
    "plt.plot(axis_blocc,val_loss_blocc.mean(0),'-',color = 'r', linewidth = 4, label=\"BLOCC\")\n",
    "fill_dn_blocc = val_loss_blocc.mean(0)-val_loss_blocc.std(0)\n",
    "fill_up_blocc = val_loss_blocc.mean(0)+val_loss_blocc.std(0)\n",
    "plt.fill_between(axis_blocc[1:],fill_dn_blocc[1:],fill_up_blocc[1:],color = 'r', alpha=0.2)\n",
    "\n",
    "plt.legend(ordered_handles, ordered_labels)\n",
    "plt.title('Validation Loss (Upper Level)')\n",
    "plt.xlabel('Running Time /s')\n",
    "plt.ylabel(\"Loss\")\n",
    "\n",
    "plt.ylim([1.5,4])\n",
    "plt.xlim([0,13])\n",
    "plt.xlim([0,axis_lvhba.max()])\n",
    "plt.savefig(results_path + 'upper_obj_time.pdf', bbox_inches=\"tight\")"
   ]
  },
  {
   "cell_type": "code",
   "execution_count": null,
   "metadata": {
    "colab": {
     "base_uri": "https://localhost:8080/",
     "height": 1000
    },
    "id": "_dakhYjXijm6",
    "outputId": "b7f1f97e-3c16-4d77-c066-02f3fa6f7529"
   },
   "outputs": [],
   "source": [
    "plt.figure(figsize=(8,6))\n",
    "\n",
    "\n",
    "plt.plot(iter_axis,test_loss_lvhba.mean(0),'-',color = cmap(0), linewidth = 4, label=\"LV-HBA\")\n",
    "fill_dn_LV = test_loss_lvhba.mean(0)-test_loss_lvhba.std(0)\n",
    "fill_up_LV = test_loss_lvhba.mean(0)+test_loss_lvhba.std(0)\n",
    "plt.fill_between(iter_axis[1:],fill_dn_LV[1:],fill_up_LV[1:],color = cmap(0), alpha=0.2)\n",
    "\n",
    "plt.plot(iter_axis,test_loss_ga.mean(0),'--',color = cmap(2), linewidth = 4, label=\"GAM\")\n",
    "fill_up_GAM = test_loss_ga.mean(0)-test_loss_ga.std(0)\n",
    "fill_dn_GAM = test_loss_ga.mean(0)+test_loss_ga.std(0)\n",
    "plt.fill_between(iter_axis[1:],fill_dn_GAM[1:],fill_up_GAM[1:],color = cmap(2), alpha=0.2)\n",
    "\n",
    "plt.plot(iter_axis,test_loss_blocc.mean(0),'-',color = 'r', linewidth = 4, label=\"BLOCC\")\n",
    "fill_dn_blocc = test_loss_blocc.mean(0)-test_loss_blocc.std(0)\n",
    "fill_up_blocc = test_loss_blocc.mean(0)+test_loss_blocc.std(0)\n",
    "plt.fill_between(iter_axis[1:],fill_dn_blocc[1:],fill_up_blocc[1:],color = 'r', alpha=0.2)\n",
    "plt.legend()\n",
    "plt.title('Test Loss')\n",
    "plt.xlabel('Iteration Count')\n",
    "plt.ylabel(\"Loss\")\n",
    "\n",
    "plt.ylim([1.5,3.4])\n",
    "plt.savefig(results_path + 'test_obj_iteration.pdf', bbox_inches=\"tight\")"
   ]
  },
  {
   "cell_type": "code",
   "execution_count": null,
   "metadata": {
    "colab": {
     "base_uri": "https://localhost:8080/",
     "height": 1000
    },
    "id": "fFbZ64H16zeS",
    "outputId": "a348d4de-0c6c-462d-b656-748e4b6be635"
   },
   "outputs": [],
   "source": [
    "plt.figure(figsize=(8,6))\n",
    "\n",
    "plt.plot(iter_axis[1:],lower_loss_blocc.mean(0),'-',color = 'r', linewidth = 4, label=\"BLOCC\")\n",
    "# fill_dn_blocc = lower_loss_blocc.mean(0)-lower_loss_blocc.std(0)\n",
    "# fill_up_blocc = lower_loss_blocc.mean(0)+lower_loss_blocc.std(0)\n",
    "# plt.fill_between(iter_axis[1:],fill_dn_blocc,fill_up_blocc,alpha=0.2)\n",
    "# the above didn't work as the standard deviation is too small\n",
    "\n",
    "plt.plot(iter_axis[1:],lower_loss_lvhba.mean(0),'-',color = cmap(0), linewidth = 4, label=\"LV-HBA\")\n",
    "fill_dn_LV = lower_loss_lvhba.mean(0)-lower_loss_lvhba.std(0)\n",
    "fill_up_LV = lower_loss_lvhba.mean(0)+lower_loss_lvhba.std(0)\n",
    "plt.fill_between(iter_axis[1:],fill_dn_LV,fill_up_LV,color = cmap(0),alpha=0.2)\n",
    "\n",
    "plt.plot(iter_axis[1:],lower_loss_ga.mean(0),'--', color = cmap(2),linewidth = 4, label=\"GAM\")\n",
    "fill_up_GAM = lower_loss_ga.mean(0)-lower_loss_ga.std(0)\n",
    "fill_dn_GAM = lower_loss_ga.mean(0)+lower_loss_ga.std(0)\n",
    "plt.fill_between(iter_axis[1:],fill_dn_GAM,fill_up_GAM,color = cmap(2),alpha=0.2)\n",
    "\n",
    "plt.legend()\n",
    "plt.title('Lower Level Objective')\n",
    "plt.xlabel('Iteration Count')\n",
    "plt.ylabel(\"Loss\")\n",
    "\n",
    "plt.savefig(results_path + 'lower_obj_iteration.pdf', bbox_inches=\"tight\")"
   ]
  },
  {
   "cell_type": "code",
   "execution_count": null,
   "metadata": {},
   "outputs": [],
   "source": [
    "plt.figure(figsize=(8,6))\n",
    "\n",
    "plt.plot(axis_blocc[1:],lower_loss_blocc.mean(0),'-',color = 'r', linewidth = 4, label=\"BLOCC\")\n",
    "# fill_dn_blocc = lower_loss_blocc.mean(0)-lower_loss_blocc.std(0)\n",
    "# fill_up_blocc = lower_loss_blocc.mean(0)+lower_loss_blocc.std(0)\n",
    "# plt.fill_between(iter_axis[1:],fill_dn_blocc,fill_up_blocc,alpha=0.2)\n",
    "# the above didn't work as the standard deviation is too small\n",
    "\n",
    "plt.plot(axis_lvhba[1:],lower_loss_lvhba.mean(0),'-',color = cmap(0), linewidth = 4, label=\"LV-HBA\")\n",
    "fill_dn_LV = lower_loss_lvhba.mean(0)-lower_loss_lvhba.std(0)\n",
    "fill_up_LV = lower_loss_lvhba.mean(0)+lower_loss_lvhba.std(0)\n",
    "plt.fill_between(axis_lvhba[1:],fill_dn_LV,fill_up_LV,color = cmap(0),alpha=0.2)\n",
    "\n",
    "plt.plot(axis_gam[1:],lower_loss_ga.mean(0),'--', color = cmap(2),linewidth = 4, label=\"GAM\")\n",
    "fill_up_GAM = lower_loss_ga.mean(0)-lower_loss_ga.std(0)\n",
    "fill_dn_GAM = lower_loss_ga.mean(0)+lower_loss_ga.std(0)\n",
    "plt.fill_between(axis_gam[1:],fill_dn_GAM,fill_up_GAM,color = cmap(2),alpha=0.2)\n",
    "\n",
    "plt.legend()\n",
    "plt.title('Lower Level Objective')\n",
    "plt.xlabel('Running Time /s')\n",
    "plt.ylabel(\"Loss\")\n",
    "plt.xlim([0,axis_lvhba.max()])\n",
    "\n",
    "plt.savefig(results_path + 'lower_obj_time.pdf', bbox_inches=\"tight\")"
   ]
  },
  {
   "cell_type": "markdown",
   "metadata": {},
   "source": [
    "# Dataset Fourclass"
   ]
  },
  {
   "cell_type": "code",
   "execution_count": null,
   "metadata": {},
   "outputs": [],
   "source": [
    "dataset_name = \"fourclass\"\n",
    "data = load_fourclass()\n",
    "\n",
    "n_train = 500\n",
    "n_val = 150"
   ]
  },
  {
   "cell_type": "code",
   "execution_count": null,
   "metadata": {},
   "outputs": [],
   "source": [
    "metrics_fourclass = {}\n",
    "variables_fourclass = {}\n",
    "\n",
    "algs = ['blocc', 'lv_hba', 'gam']\n",
    "\n",
    "for a in algs:\n",
    "    metrics_fourclass[a] = []\n",
    "    variables_fourclass[a] = []\n",
    "\n",
    "for seed in range(seeds):\n",
    "\n",
    "    print(f\"Starting seed {seed+1}/{seeds}: \", end=\"\")\n",
    "\n",
    "    x_train, y_train, x_val, y_val, x_test, y_test = train_val_test_split(data, seed, n_train, n_val)\n",
    "\n",
    "    for alg in algs:\n",
    "        print(f\"{alg}\", end=\" \")\n",
    "\n",
    "        metrics_seed, variables_seed = eval(alg)(x_train, y_train, x_val, y_val, x_test, y_test, hparams[alg], epochs, verbose=False)\n",
    "        metrics_fourclass[alg].append(metrics_seed)\n",
    "        variables_fourclass[alg].append(variables_seed)\n",
    "    print(\"DONE\")"
   ]
  },
  {
   "cell_type": "markdown",
   "metadata": {},
   "source": [
    "## Evaluation"
   ]
  },
  {
   "cell_type": "code",
   "execution_count": null,
   "metadata": {},
   "outputs": [],
   "source": [
    "results_path = 'Plots_fourclass/'#f'../results/hyperparam_opt/{dataset_name}/'"
   ]
  },
  {
   "cell_type": "code",
   "execution_count": null,
   "metadata": {},
   "outputs": [],
   "source": [
    "metrics_lvhba = metrics_fourclass['lv_hba']\n",
    "metrics_gam = metrics_fourclass['gam']\n",
    "metrics_blocc = metrics_fourclass['blocc']\n",
    "\n",
    "\n",
    "axis_lvhba_all = np.array([[x['time_computation'] for x in metrics] for metrics in metrics_lvhba])\n",
    "axis_gam_all = np.array([[x['time_computation'] for x in metrics] for metrics in metrics_gam])\n",
    "axis_blocc_all = np.array([[x['time_computation'] for x in metrics] for metrics in metrics_blocc])\n",
    "\n",
    "axis_lvhba = axis_lvhba_all.mean(0)\n",
    "axis_gam = axis_gam_all.mean(0)\n",
    "axis_blocc = axis_blocc_all.mean(0)\n",
    "\n",
    "axis_iter = np.arange(epochs)"
   ]
  },
  {
   "cell_type": "code",
   "execution_count": null,
   "metadata": {},
   "outputs": [],
   "source": [
    "train_acc_lvhba = np.array([[x['train_acc'] for x in metrics] for metrics in metrics_lvhba])\n",
    "train_acc_ga = np.array([[x['train_acc'] for x in metrics] for metrics in metrics_gam])\n",
    "train_acc_blocc = np.array([[x['train_acc_F'] for x in metrics] for metrics in metrics_blocc])\n",
    "\n",
    "val_acc_lvhba = np.array([[x['val_acc'] for x in metrics] for metrics in metrics_lvhba])\n",
    "val_acc_ga = np.array([[x['val_acc'] for x in metrics] for metrics in metrics_gam])\n",
    "val_acc_blocc = np.array([[x['val_acc_F'] for x in metrics] for metrics in metrics_blocc])\n",
    "\n",
    "test_acc_lvhba = np.array([[x['test_acc'] for x in metrics] for metrics in metrics_lvhba])\n",
    "test_acc_ga = np.array([[x['test_acc'] for x in metrics] for metrics in metrics_gam])\n",
    "test_acc_blocc = np.array([[x['test_acc_F'] for x in metrics] for metrics in metrics_blocc])"
   ]
  },
  {
   "cell_type": "code",
   "execution_count": null,
   "metadata": {},
   "outputs": [],
   "source": [
    "val_loss_lvhba = np.array([[x['val_loss'] for x in metrics] for metrics in metrics_lvhba])[:,0:]\n",
    "val_loss_ga = np.array([[x['val_loss'] for x in metrics] for metrics in metrics_gam])[:,0:]\n",
    "val_loss_blocc = np.array([[x['val_loss_F'] for x in metrics] for metrics in metrics_blocc])[:,0:]\n",
    "\n",
    "test_loss_lvhba = np.array([[x['test_loss'] for x in metrics] for metrics in metrics_lvhba])[:,0:]\n",
    "test_loss_ga = np.array([[x['test_loss'] for x in metrics] for metrics in metrics_gam])[:,0:]\n",
    "test_loss_blocc = np.array([[x['test_loss_F'] for x in metrics] for metrics in metrics_blocc])[:,0:]\n",
    "\n",
    "lower_loss_lvhba = np.array([[x['loss_lower'] for x in metrics] for metrics in metrics_lvhba])[:,1:]\n",
    "lower_loss_ga = np.array([[x['loss_lower'] for x in metrics] for metrics in metrics_gam])[:,1:]\n",
    "lower_loss_blocc = np.array([[x['loss_lower'] for x in metrics] for metrics in metrics_blocc])[:,1:]\n"
   ]
  },
  {
   "cell_type": "markdown",
   "metadata": {},
   "source": [
    "### Measuring Convergence Time\n",
    "When `(UpperLoss_{t+1}-UpperLoss_t)^2` is smaller than `eps = 1e-10`. We say convergence happen."
   ]
  },
  {
   "cell_type": "code",
   "execution_count": null,
   "metadata": {},
   "outputs": [],
   "source": [
    "print(\"-------------- Accuracy -------------\")\n",
    "print('blocc: {:0.3f} ({:0.3f})'.format(test_acc_blocc[:,-1].mean(),test_acc_blocc[:,-1].std()))\n",
    "print('lvhba: {:0.3f} ({:0.3f})'.format(test_acc_lvhba[:,-1].mean(),test_acc_lvhba[:,-1].std()))\n",
    "print('gam: {:0.3f} ({:0.3f})'.format(test_acc_ga[:,-1].mean(),test_acc_ga[:,-1].std()))"
   ]
  },
  {
   "cell_type": "code",
   "execution_count": null,
   "metadata": {},
   "outputs": [],
   "source": [
    "eps = 1e-5\n",
    "\n",
    "diff_val_loss_blocc = np.diff(val_loss_blocc,axis=1)**2\n",
    "diff_val_loss_blocc[diff_val_loss_blocc<eps]=0\n",
    "converged_id_blocc = np.argmin(diff_val_loss_blocc,axis = 1)\n",
    "\n",
    "diff_val_loss_lvhba = np.diff(val_loss_lvhba,axis=1)**2\n",
    "diff_val_loss_lvhba[diff_val_loss_lvhba<eps]=0\n",
    "converged_id_lvhba = np.argmin(diff_val_loss_lvhba,axis = 1)\n",
    "\n",
    "diff_val_loss_ga = np.diff(val_loss_ga,axis=1)**2\n",
    "diff_val_loss_ga[diff_val_loss_ga<eps]=0\n",
    "converged_id_ga = np.argmin(diff_val_loss_ga,axis = 1)\n",
    "\n",
    "time_blocc = []\n",
    "time_lvhba = []\n",
    "time_ga = []\n",
    "for i in range(seeds):\n",
    "    time_blocc.append(axis_blocc_all[i,converged_id_blocc[i]+1])\n",
    "    time_lvhba.append(axis_lvhba_all[i,converged_id_lvhba[i]+1])\n",
    "    time_ga.append(axis_gam_all[i,converged_id_ga[i]+1])\n",
    "\n",
    "time_blocc = np.array(time_blocc)\n",
    "time_lvhba = np.array(time_lvhba)\n",
    "time_ga = np.array(time_ga)\n",
    "print(\"-------------- Running Time -------------\")\n",
    "print('blocc: {:0.3f} ({:0.3f})'.format(time_blocc.mean(),time_blocc.std()))\n",
    "print('lvhba: {:0.3f} ({:0.3f})'.format(time_lvhba.mean(),time_lvhba.std()))\n",
    "print('gam: {:0.3f} ({:0.3f})'.format(time_ga.mean(),time_ga.std()))"
   ]
  },
  {
   "cell_type": "markdown",
   "metadata": {},
   "source": [
    "### Plots"
   ]
  },
  {
   "cell_type": "code",
   "execution_count": null,
   "metadata": {},
   "outputs": [],
   "source": [
    "plt.figure(figsize=(8,6))\n",
    "\n",
    "plt.plot(axis_lvhba,val_acc_lvhba.mean(0),'-', color = cmap(0),linewidth = 4, label=\"LV-HBA\")\n",
    "plt.fill_between(axis_lvhba,val_acc_lvhba.mean(0)-val_acc_lvhba.std(0),val_acc_lvhba.mean(0)+val_acc_lvhba.std(0), color = cmap(0),alpha=0.2)\n",
    "\n",
    "plt.plot(axis_gam,val_acc_ga.mean(0),'--', color = cmap(2), linewidth = 4, label=\"GAM\")\n",
    "plt.fill_between(axis_gam,val_acc_ga.mean(0)-val_acc_ga.std(0),val_acc_ga.mean(0)+val_acc_ga.std(0), color = cmap(2), alpha=0.2)\n",
    "\n",
    "plt.plot(axis_blocc,val_acc_blocc.mean(0),'-',color='r',linewidth = 4, label=\"BLOCC\")\n",
    "plt.fill_between(axis_blocc,val_acc_blocc.mean(0)-val_acc_blocc.std(0),val_acc_blocc.mean(0)+val_acc_blocc.std(0),color='r', alpha=0.2)\n",
    "\n",
    "# Get the handles and labels\n",
    "handles, labels = plt.gca().get_legend_handles_labels()\n",
    "\n",
    "# Reorder the handles and labels as needed\n",
    "order = [2,0,1]\n",
    "ordered_handles = [handles[i] for i in order]\n",
    "ordered_labels = [labels[i] for i in order]\n",
    "\n",
    "# Create the legend with the new order\n",
    "plt.legend(ordered_handles, ordered_labels)\n",
    "              \n",
    "plt.title('Validation Accuracy')\n",
    "plt.xlabel('Running time /s')\n",
    "plt.ylabel(\"Accuracy\")\n",
    "plt.xlim([0,axis_lvhba.max()])\n",
    "plt.savefig(results_path + 'val_accuracy_running_time.pdf', bbox_inches=\"tight\")"
   ]
  },
  {
   "cell_type": "code",
   "execution_count": null,
   "metadata": {},
   "outputs": [],
   "source": [
    "plt.figure(figsize=(8,6))\n",
    "\n",
    "iter_axis = np.arange(val_acc_ga.shape[1])\n",
    "\n",
    "\n",
    "plt.plot(axis_iter,val_acc_lvhba.mean(0),'-',color = cmap(0), linewidth = 4,  label=\"LV-HBA\")\n",
    "plt.fill_between(axis_iter,val_acc_lvhba.mean(0)-val_acc_lvhba.std(0),val_acc_lvhba.mean(0)+val_acc_lvhba.std(0),color = cmap(0), alpha=0.2)\n",
    "\n",
    "plt.plot(axis_iter,val_acc_ga.mean(0),'--',color = cmap(2),  linewidth = 4, label=\"GAM\")\n",
    "plt.fill_between(axis_iter,val_acc_ga.mean(0)-val_acc_ga.std(0),val_acc_ga.mean(0)+val_acc_ga.std(0),color = cmap(2), alpha=0.2)\n",
    "\n",
    "plt.plot(axis_iter,val_acc_blocc.mean(0),'-',color = 'r', linewidth = 4, label=\"BLOCC\")\n",
    "plt.fill_between(axis_iter,val_acc_blocc.mean(0)-val_acc_blocc.std(0),val_acc_blocc.mean(0)+val_acc_blocc.std(0),color = 'r',alpha=0.2)\n",
    "\n",
    "plt.legend(ordered_handles, ordered_labels)\n",
    "\n",
    "plt.title('Validation Accuracy')\n",
    "plt.xlabel('Iteration Count')\n",
    "plt.ylabel(\"Accuracy\")\n",
    "\n",
    "\n",
    "plt.savefig(results_path + 'val_accuracy_iteration.pdf', bbox_inches=\"tight\")"
   ]
  },
  {
   "cell_type": "code",
   "execution_count": null,
   "metadata": {},
   "outputs": [],
   "source": [
    "plt.figure(figsize=(8,6))\n",
    "\n",
    "plt.plot(axis_lvhba,test_acc_lvhba.mean(0),'-',linewidth = 4, color = cmap(0),label=\"LV-HBA\")\n",
    "plt.fill_between(axis_lvhba,test_acc_lvhba.mean(0)-test_acc_lvhba.std(0),test_acc_lvhba.mean(0)+test_acc_lvhba.std(0),color = cmap(0),alpha=0.2)\n",
    "\n",
    "plt.plot(axis_gam,test_acc_ga.mean(0),'--',linewidth = 4, color = cmap(2),label=\"GAM\")\n",
    "plt.fill_between(axis_gam,test_acc_ga.mean(0)-test_acc_ga.std(0),test_acc_ga.mean(0)+test_acc_ga.std(0),color = cmap(2),alpha=0.2)\n",
    "\n",
    "plt.plot(axis_blocc,test_acc_blocc.mean(0),'-',linewidth = 4, color = 'r',label=\"BLOCC\")\n",
    "plt.fill_between(axis_blocc,test_acc_blocc.mean(0)-test_acc_blocc.std(0),test_acc_blocc.mean(0)+test_acc_blocc.std(0),color = 'r',alpha=0.2)\n",
    "\n",
    "# Get the handles and labels\n",
    "handles, labels = plt.gca().get_legend_handles_labels()\n",
    "# Reorder the handles and labels as needed\n",
    "order = [2,0,1]\n",
    "ordered_handles = [handles[i] for i in order]\n",
    "ordered_labels = [labels[i] for i in order]\n",
    "# Create the legend with the new order\n",
    "plt.legend(ordered_handles, ordered_labels)\n",
    "\n",
    "plt.title('Test Accuracy')\n",
    "plt.xlabel('Running time /s')\n",
    "plt.ylabel(\"Accuracy\")\n",
    "\n",
    "plt.xlim([0,axis_lvhba.max()])\n",
    "plt.savefig(results_path + 'test_accuracy_running_time.pdf', bbox_inches=\"tight\")"
   ]
  },
  {
   "cell_type": "code",
   "execution_count": null,
   "metadata": {},
   "outputs": [],
   "source": [
    "plt.figure(figsize=(8,6))\n",
    "\n",
    "plt.plot(axis_iter,test_acc_lvhba.mean(0),'-',color = cmap(0),linewidth = 4, label=\"LV-HBA\")\n",
    "plt.fill_between(axis_iter,test_acc_lvhba.mean(0)-test_acc_lvhba.std(0),test_acc_lvhba.mean(0)+test_acc_lvhba.std(0),color = cmap(0),alpha=0.2)\n",
    "\n",
    "plt.plot(axis_iter,test_acc_ga.mean(0),'--',color = cmap(2),linewidth = 4, label=\"GAM\")\n",
    "plt.fill_between(axis_iter,test_acc_ga.mean(0)-test_acc_ga.std(0),test_acc_ga.mean(0)+test_acc_ga.std(0),color = cmap(2),alpha=0.2)\n",
    "\n",
    "\n",
    "plt.plot(axis_iter,test_acc_blocc.mean(0),'-',color = 'r',linewidth = 4, label=\"BLOCC\")\n",
    "plt.fill_between(axis_iter,test_acc_blocc.mean(0)-test_acc_blocc.std(0),test_acc_blocc.mean(0)+test_acc_blocc.std(0),color = 'r',alpha=0.2)\n",
    "\n",
    "\n",
    "plt.legend(ordered_handles, ordered_labels)\n",
    "\n",
    "plt.title('Test Accuracy')\n",
    "plt.xlabel('Iteration Count')\n",
    "plt.ylabel(\"Accuracy\")\n",
    "plt.savefig(results_path + 'test_accuracy_iteration.pdf', bbox_inches=\"tight\")"
   ]
  },
  {
   "cell_type": "code",
   "execution_count": null,
   "metadata": {},
   "outputs": [],
   "source": [
    "plt.figure(figsize=(8,6))\n",
    "\n",
    "\n",
    "plt.plot(iter_axis,val_loss_lvhba.mean(0),'-',color = cmap(0), linewidth = 4, label=\"LV-HBA\")\n",
    "fill_dn_LV = val_loss_lvhba.mean(0)-val_loss_lvhba.std(0)\n",
    "fill_up_LV = val_loss_lvhba.mean(0)+val_loss_lvhba.std(0)\n",
    "plt.fill_between(iter_axis[1:],fill_dn_LV[1:],fill_up_LV[1:],color = cmap(0), alpha=0.2)\n",
    "\n",
    "plt.plot(iter_axis,val_loss_ga.mean(0),'--',color = cmap(2), linewidth = 4, label=\"GAM\")\n",
    "fill_up_GAM = val_loss_ga.mean(0)-val_loss_ga.std(0)\n",
    "fill_dn_GAM = val_loss_ga.mean(0)+val_loss_ga.std(0)\n",
    "plt.fill_between(iter_axis[1:],fill_dn_GAM[1:],fill_up_GAM[1:],color = cmap(2), alpha=0.2)\n",
    "\n",
    "plt.plot(iter_axis,val_loss_blocc.mean(0),'-',color = 'r', linewidth = 4, label=\"BLOCC\")\n",
    "fill_dn_blocc = val_loss_blocc.mean(0)-val_loss_blocc.std(0)\n",
    "fill_up_blocc = val_loss_blocc.mean(0)+val_loss_blocc.std(0)\n",
    "plt.fill_between(iter_axis[1:],fill_dn_blocc[1:],fill_up_blocc[1:],color = 'r', alpha=0.2)\n",
    "\n",
    "plt.legend(ordered_handles, ordered_labels)\n",
    "\n",
    "plt.title('Validation Loss / Upper Level Objective')\n",
    "plt.xlabel('Iteration Count')\n",
    "plt.ylabel(\"Loss\")\n",
    "\n",
    "\n",
    "plt.ylim([1.5,3.4])\n",
    "plt.savefig(results_path + 'upper_obj_iteration.pdf', bbox_inches=\"tight\")"
   ]
  },
  {
   "cell_type": "code",
   "execution_count": null,
   "metadata": {},
   "outputs": [],
   "source": [
    "plt.figure(figsize=(8,6))\n",
    "\n",
    "\n",
    "plt.plot(axis_lvhba,val_loss_lvhba.mean(0),'-',color = cmap(0), linewidth = 4, label=\"LV-HBA\")\n",
    "fill_dn_LV = val_loss_lvhba.mean(0)-val_loss_lvhba.std(0)\n",
    "fill_up_LV = val_loss_lvhba.mean(0)+val_loss_lvhba.std(0)\n",
    "plt.fill_between(axis_lvhba[1:],fill_dn_LV[1:],fill_up_LV[1:],color = cmap(0), alpha=0.2)\n",
    "\n",
    "plt.plot(axis_gam,val_loss_ga.mean(0),'--',color = cmap(2), linewidth = 4, label=\"GAM\")\n",
    "fill_up_GAM = val_loss_ga.mean(0)-val_loss_ga.std(0)\n",
    "fill_dn_GAM = val_loss_ga.mean(0)+val_loss_ga.std(0)\n",
    "plt.fill_between(axis_gam[1:],fill_dn_GAM[1:],fill_up_GAM[1:],color = cmap(2), alpha=0.2)\n",
    "\n",
    "plt.plot(axis_blocc,val_loss_blocc.mean(0),'-',color = 'r', linewidth = 4, label=\"BLOCC\")\n",
    "fill_dn_blocc = val_loss_blocc.mean(0)-val_loss_blocc.std(0)\n",
    "fill_up_blocc = val_loss_blocc.mean(0)+val_loss_blocc.std(0)\n",
    "plt.fill_between(axis_blocc[1:],fill_dn_blocc[1:],fill_up_blocc[1:],color = 'r', alpha=0.2)\n",
    "\n",
    "plt.legend(ordered_handles, ordered_labels)\n",
    "plt.title('Validation Loss (Upper Level)')\n",
    "plt.xlabel('Running Time /s')\n",
    "plt.ylabel(\"Loss\")\n",
    "\n",
    "plt.ylim([1.5,4])\n",
    "plt.xlim([0,13])\n",
    "plt.xlim([0,axis_lvhba.max()])\n",
    "plt.savefig(results_path + 'upper_obj_time.pdf', bbox_inches=\"tight\")"
   ]
  },
  {
   "cell_type": "code",
   "execution_count": null,
   "metadata": {},
   "outputs": [],
   "source": [
    "plt.figure(figsize=(8,6))\n",
    "\n",
    "fill_dn_blocc = test_loss_blocc.mean(0)-test_loss_blocc.std(0)\n",
    "fill_up_blocc = test_loss_blocc.mean(0)+test_loss_blocc.std(0)\n",
    "plt.fill_between(iter_axis[1:],fill_dn_blocc[1:],fill_up_blocc[1:],color = 'r', alpha=0.2)\n",
    "\n",
    "fill_dn_LV = test_loss_lvhba.mean(0)-test_loss_lvhba.std(0)\n",
    "fill_up_LV = test_loss_lvhba.mean(0)+test_loss_lvhba.std(0)\n",
    "plt.fill_between(iter_axis[1:],fill_dn_LV[1:],fill_up_LV[1:],color = cmap(0), alpha=0.2)\n",
    "\n",
    "fill_up_GAM = test_loss_ga.mean(0)-test_loss_ga.std(0)\n",
    "fill_dn_GAM = test_loss_ga.mean(0)+test_loss_ga.std(0)\n",
    "plt.fill_between(iter_axis[1:],fill_dn_GAM[1:],fill_up_GAM[1:],color = cmap(2), alpha=0.2)\n",
    "\n",
    "plt.plot(iter_axis,test_loss_lvhba.mean(0),'-',color = cmap(0), linewidth = 4, label=\"LV-HBA\")\n",
    "\n",
    "plt.plot(iter_axis,test_loss_ga.mean(0),'--',color = cmap(2), linewidth = 4, label=\"GAM\")\n",
    "\n",
    "plt.plot(iter_axis,test_loss_blocc.mean(0),'-',color = 'r', linewidth = 4, label=\"BLOCC\")\n",
    "\n",
    "\n",
    "plt.legend(ordered_handles, ordered_labels)\n",
    "plt.title('Test Loss')\n",
    "plt.xlabel('Iteration Count')\n",
    "plt.ylabel(\"Loss\")\n",
    "\n",
    "plt.ylim([1.5,3.4])\n",
    "plt.savefig(results_path + 'test_obj_iteration.pdf', bbox_inches=\"tight\")"
   ]
  },
  {
   "cell_type": "code",
   "execution_count": null,
   "metadata": {
    "scrolled": true
   },
   "outputs": [],
   "source": [
    "plt.figure(figsize=(8,6))\n",
    "\n",
    "plt.plot(iter_axis[1:],lower_loss_blocc.mean(0),'-',color = 'r', linewidth = 4, label=\"BLOCC\")\n",
    "# fill_dn_blocc = lower_loss_blocc.mean(0)-lower_loss_blocc.std(0)\n",
    "# fill_up_blocc = lower_loss_blocc.mean(0)+lower_loss_blocc.std(0)\n",
    "# plt.fill_between(iter_axis[1:],fill_dn_blocc,fill_up_blocc,alpha=0.2)\n",
    "# the above didn't work as the standard deviation is too small\n",
    "\n",
    "plt.plot(iter_axis[1:],lower_loss_lvhba.mean(0),'-',color = cmap(0), linewidth = 4, label=\"LV-HBA\")\n",
    "fill_dn_LV = lower_loss_lvhba.mean(0)-lower_loss_lvhba.std(0)\n",
    "fill_up_LV = lower_loss_lvhba.mean(0)+lower_loss_lvhba.std(0)\n",
    "plt.fill_between(iter_axis[1:],fill_dn_LV,fill_up_LV,color = cmap(0),alpha=0.2)\n",
    "\n",
    "plt.plot(iter_axis[1:],lower_loss_ga.mean(0),'--', color = cmap(2),linewidth = 4, label=\"GAM\")\n",
    "fill_up_GAM = lower_loss_ga.mean(0)-lower_loss_ga.std(0)\n",
    "fill_dn_GAM = lower_loss_ga.mean(0)+lower_loss_ga.std(0)\n",
    "plt.fill_between(iter_axis[1:],fill_dn_GAM,fill_up_GAM,color = cmap(2),alpha=0.2)\n",
    "\n",
    "plt.legend()\n",
    "plt.title('Lower Loss')\n",
    "plt.xlabel('Iteration Count')\n",
    "plt.ylabel(\"Loss\")\n",
    "\n",
    "plt.savefig(results_path + 'lower_obj_iteration.pdf', bbox_inches=\"tight\")"
   ]
  },
  {
   "cell_type": "code",
   "execution_count": null,
   "metadata": {},
   "outputs": [],
   "source": [
    "plt.figure(figsize=(8,6))\n",
    "\n",
    "plt.plot(axis_blocc[1:],lower_loss_blocc.mean(0),'-',color = 'r', linewidth = 4, label=\"BLOCC\")\n",
    "# fill_dn_blocc = lower_loss_blocc.mean(0)-lower_loss_blocc.std(0)\n",
    "# fill_up_blocc = lower_loss_blocc.mean(0)+lower_loss_blocc.std(0)\n",
    "# plt.fill_between(iter_axis[1:],fill_dn_blocc,fill_up_blocc,alpha=0.2)\n",
    "# the above didn't work as the standard deviation is too small\n",
    "\n",
    "plt.plot(axis_lvhba[1:],lower_loss_lvhba.mean(0),'-',color = cmap(0), linewidth = 4, label=\"LV-HBA\")\n",
    "fill_dn_LV = lower_loss_lvhba.mean(0)-lower_loss_lvhba.std(0)\n",
    "fill_up_LV = lower_loss_lvhba.mean(0)+lower_loss_lvhba.std(0)\n",
    "plt.fill_between(axis_lvhba[1:],fill_dn_LV,fill_up_LV,color = cmap(0),alpha=0.2)\n",
    "\n",
    "plt.plot(axis_gam[1:],lower_loss_ga.mean(0),'--', color = cmap(2),linewidth = 4, label=\"GAM\")\n",
    "fill_up_GAM = lower_loss_ga.mean(0)-lower_loss_ga.std(0)\n",
    "fill_dn_GAM = lower_loss_ga.mean(0)+lower_loss_ga.std(0)\n",
    "plt.fill_between(axis_gam[1:],fill_dn_GAM,fill_up_GAM,color = cmap(2),alpha=0.2)\n",
    "\n",
    "plt.legend()\n",
    "plt.title('Lower Level Objective')\n",
    "plt.xlabel('Running Time /s')\n",
    "plt.ylabel(\"Loss\")\n",
    "plt.xlim([0,axis_lvhba.max()])\n",
    "\n",
    "plt.savefig(results_path + 'lower_obj_time.pdf', bbox_inches=\"tight\")"
   ]
  },
  {
   "cell_type": "code",
   "execution_count": null,
   "metadata": {},
   "outputs": [],
   "source": []
  },
  {
   "cell_type": "code",
   "execution_count": null,
   "metadata": {},
   "outputs": [],
   "source": []
  },
  {
   "cell_type": "code",
   "execution_count": null,
   "metadata": {},
   "outputs": [],
   "source": []
  }
 ],
 "metadata": {
  "colab": {
   "provenance": []
  },
  "kernelspec": {
   "display_name": "Python 3 (ipykernel)",
   "language": "python",
   "name": "python3"
  },
  "language_info": {
   "codemirror_mode": {
    "name": "ipython",
    "version": 3
   },
   "file_extension": ".py",
   "mimetype": "text/x-python",
   "name": "python",
   "nbconvert_exporter": "python",
   "pygments_lexer": "ipython3",
   "version": "3.10.14"
  }
 },
 "nbformat": 4,
 "nbformat_minor": 4
}
